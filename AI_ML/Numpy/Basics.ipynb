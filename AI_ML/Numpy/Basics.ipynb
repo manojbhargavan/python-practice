{
 "cells": [
  {
   "cell_type": "code",
   "execution_count": 1,
   "id": "8ddc1182-55dd-4b00-81e9-dcf35aaaad40",
   "metadata": {},
   "outputs": [],
   "source": [
    "import numpy as np\n",
    "import matplotlib.pyplot as plt\n",
    "import pandas as pd"
   ]
  },
  {
   "cell_type": "markdown",
   "id": "37a79124-8a45-418b-af52-aed93d128d45",
   "metadata": {},
   "source": [
    "### Data Types and Attributes"
   ]
  },
  {
   "cell_type": "code",
   "execution_count": 2,
   "id": "9103582a-d2ee-46cc-8a20-e99b77c77084",
   "metadata": {},
   "outputs": [],
   "source": [
    "a1 = np.array([1,2,3])"
   ]
  },
  {
   "cell_type": "code",
   "execution_count": 3,
   "id": "f2ce1e4e-dcaf-4174-8c9a-1c02280736a5",
   "metadata": {},
   "outputs": [
    {
     "data": {
      "text/plain": [
       "array([1, 2, 3])"
      ]
     },
     "execution_count": 3,
     "metadata": {},
     "output_type": "execute_result"
    }
   ],
   "source": [
    "a1"
   ]
  },
  {
   "cell_type": "code",
   "execution_count": 4,
   "id": "1b4b5c6f-131e-4428-9667-855130279323",
   "metadata": {},
   "outputs": [
    {
     "data": {
      "text/plain": [
       "numpy.ndarray"
      ]
     },
     "execution_count": 4,
     "metadata": {},
     "output_type": "execute_result"
    }
   ],
   "source": [
    "type(a1)"
   ]
  },
  {
   "cell_type": "code",
   "execution_count": 9,
   "id": "33f62214-6dfa-4d01-abcc-f93c24eaedc9",
   "metadata": {},
   "outputs": [],
   "source": [
    "a2 = np.array([[1,2,3.5],[4,5.6,6.7]])\n",
    "\n",
    "a3 = np.array([[[1, 2, 3],\n",
    "                [4, 5, 6]],\n",
    "               [[7, 8, 9],\n",
    "                [10, 11, 12]],\n",
    "               [[13, 14, 15],\n",
    "                [16, 17, 18]]])"
   ]
  },
  {
   "cell_type": "code",
   "execution_count": 10,
   "id": "aed4dcde-be92-4546-9666-bada9a7476ed",
   "metadata": {},
   "outputs": [
    {
     "data": {
      "text/plain": [
       "(2, 3)"
      ]
     },
     "execution_count": 10,
     "metadata": {},
     "output_type": "execute_result"
    }
   ],
   "source": [
    "a2.shape"
   ]
  },
  {
   "cell_type": "code",
   "execution_count": 11,
   "id": "517affd3-0c9c-47cd-834e-6f409e5ab7ef",
   "metadata": {},
   "outputs": [
    {
     "data": {
      "text/plain": [
       "(3, 2, 3)"
      ]
     },
     "execution_count": 11,
     "metadata": {},
     "output_type": "execute_result"
    }
   ],
   "source": [
    "a3.shape"
   ]
  },
  {
   "cell_type": "code",
   "execution_count": 13,
   "id": "a2c51b19-883b-45a6-b3b1-187bb6c5ffd1",
   "metadata": {},
   "outputs": [
    {
     "data": {
      "text/plain": [
       "(dtype('int64'), dtype('float64'), dtype('int64'))"
      ]
     },
     "execution_count": 13,
     "metadata": {},
     "output_type": "execute_result"
    }
   ],
   "source": [
    "a1.dtype, a2.dtype, a3.dtype"
   ]
  },
  {
   "cell_type": "code",
   "execution_count": 14,
   "id": "f18d49c6-9f3f-401c-8aea-dc447ebcb7cb",
   "metadata": {},
   "outputs": [
    {
     "data": {
      "text/plain": [
       "(numpy.ndarray, numpy.ndarray, numpy.ndarray)"
      ]
     },
     "execution_count": 14,
     "metadata": {},
     "output_type": "execute_result"
    }
   ],
   "source": [
    "type(a1),type(a2), type(a3)"
   ]
  },
  {
   "cell_type": "code",
   "execution_count": 15,
   "id": "d26a889a-f45a-451c-ac63-d76dd950a999",
   "metadata": {},
   "outputs": [
    {
     "data": {
      "text/plain": [
       "(1, 2, 3)"
      ]
     },
     "execution_count": 15,
     "metadata": {},
     "output_type": "execute_result"
    }
   ],
   "source": [
    "a1.ndim, a2.ndim, a3.ndim"
   ]
  },
  {
   "cell_type": "code",
   "execution_count": 17,
   "id": "19787dc5-bd07-42d6-a497-720a43d089a0",
   "metadata": {},
   "outputs": [
    {
     "data": {
      "text/plain": [
       "(3, 6, 18)"
      ]
     },
     "execution_count": 17,
     "metadata": {},
     "output_type": "execute_result"
    }
   ],
   "source": [
    "a1.size, a2.size, a3.size"
   ]
  },
  {
   "cell_type": "code",
   "execution_count": 22,
   "id": "7da390cc-a8b6-4c3c-94ca-059dae02d572",
   "metadata": {},
   "outputs": [
    {
     "data": {
      "text/plain": [
       "array([[1., 1., 1.],\n",
       "       [1., 1., 1.]])"
      ]
     },
     "execution_count": 22,
     "metadata": {},
     "output_type": "execute_result"
    }
   ],
   "source": [
    "np.ones((2,3))"
   ]
  },
  {
   "cell_type": "code",
   "execution_count": 23,
   "id": "88e99d9a-9ab2-4ccc-80f1-3ba54872ffe3",
   "metadata": {},
   "outputs": [
    {
     "data": {
      "text/plain": [
       "array([[0., 0., 0., 0.],\n",
       "       [0., 0., 0., 0.]])"
      ]
     },
     "execution_count": 23,
     "metadata": {},
     "output_type": "execute_result"
    }
   ],
   "source": [
    "np.zeros((2,4))"
   ]
  },
  {
   "cell_type": "code",
   "execution_count": 27,
   "id": "bb0a481d-fa1e-4e63-bed6-5cbb5efac9fd",
   "metadata": {},
   "outputs": [
    {
     "data": {
      "text/plain": [
       "array([[246, 534, 966, 909,  60, 963, 557, 399, 650, 151],\n",
       "       [464, 863, 392, 953, 917, 148, 257, 149, 155, 949],\n",
       "       [778, 557, 140,  22, 535, 409, 869, 546, 431, 999],\n",
       "       [275, 444, 478, 869,  37, 655, 243, 364, 461, 597],\n",
       "       [416, 997, 954, 112,  54, 133, 167, 965, 489, 664]])"
      ]
     },
     "execution_count": 27,
     "metadata": {},
     "output_type": "execute_result"
    }
   ],
   "source": [
    "np.random.randint(1,1000,(5,10))"
   ]
  },
  {
   "cell_type": "code",
   "execution_count": 35,
   "id": "88a294d6-8081-4626-ad22-0c603fc8f533",
   "metadata": {},
   "outputs": [
    {
     "data": {
      "text/plain": [
       "array([[  57.2898516 , 2302.26138746],\n",
       "       [ 602.93609425,  433.9777699 ],\n",
       "       [2959.72110689, 7643.61693371],\n",
       "       [4610.62494724,  107.26466986],\n",
       "       [4015.51614796, 4233.7118992 ],\n",
       "       [3083.54351478,  829.84593564],\n",
       "       [ 300.67965925, 1800.72174316],\n",
       "       [ 951.85256037,  843.78912028]])"
      ]
     },
     "execution_count": 35,
     "metadata": {},
     "output_type": "execute_result"
    }
   ],
   "source": [
    "np.random.rand(8,2) * np.random.randint(1,10000,(8,2))"
   ]
  },
  {
   "cell_type": "code",
   "execution_count": 39,
   "id": "c7736c80-3b3d-435f-9779-324bf8171676",
   "metadata": {},
   "outputs": [
    {
     "data": {
      "text/plain": [
       "array([[266, 126, 997, 528, 321, 370, 124, 157, 986, 734],\n",
       "       [497, 926, 882,   9,  74, 257, 491,  41, 503, 421],\n",
       "       [372, 529, 357, 240, 396,  55, 345, 364, 123, 575],\n",
       "       [546, 201, 869, 975, 690, 692,  55,  78, 454,  14],\n",
       "       [756, 410, 383, 654, 861, 343, 799, 671,  90, 653]])"
      ]
     },
     "execution_count": 39,
     "metadata": {},
     "output_type": "execute_result"
    }
   ],
   "source": [
    "np.random.seed(10)\n",
    "np.random.randint(1,1000, (5,10))"
   ]
  },
  {
   "cell_type": "code",
   "execution_count": 42,
   "id": "a092decf-cea9-4013-a3c3-1cfee5605fd6",
   "metadata": {},
   "outputs": [
    {
     "data": {
      "text/plain": [
       "array([[[[8, 7, 6, 9, 3],\n",
       "         [3, 1, 2, 3, 4],\n",
       "         [6, 8, 9, 8, 8],\n",
       "         [7, 3, 1, 5, 6]],\n",
       "\n",
       "        [[5, 7, 1, 5, 7],\n",
       "         [5, 9, 1, 8, 2],\n",
       "         [8, 2, 2, 6, 6],\n",
       "         [1, 9, 4, 8, 2]],\n",
       "\n",
       "        [[6, 3, 4, 5, 6],\n",
       "         [8, 7, 9, 1, 5],\n",
       "         [7, 4, 6, 4, 9],\n",
       "         [4, 1, 7, 3, 4]]],\n",
       "\n",
       "\n",
       "       [[[2, 5, 1, 6, 1],\n",
       "         [9, 2, 4, 7, 1],\n",
       "         [1, 7, 6, 8, 5],\n",
       "         [1, 1, 3, 3, 2]],\n",
       "\n",
       "        [[7, 7, 8, 4, 1],\n",
       "         [8, 8, 1, 3, 3],\n",
       "         [1, 6, 9, 1, 6],\n",
       "         [4, 7, 8, 9, 1]],\n",
       "\n",
       "        [[7, 1, 2, 1, 2],\n",
       "         [5, 1, 2, 8, 4],\n",
       "         [1, 9, 2, 6, 5],\n",
       "         [6, 5, 4, 5, 5]]]])"
      ]
     },
     "execution_count": 42,
     "metadata": {},
     "output_type": "execute_result"
    }
   ],
   "source": [
    "randnums = np.random.randint(1, 10, size=(2,3,4,5))\n",
    "randnums"
   ]
  },
  {
   "cell_type": "code",
   "execution_count": 45,
   "id": "6b23aa49-5119-465d-9ae8-bb8d379b4a2f",
   "metadata": {},
   "outputs": [
    {
     "data": {
      "text/plain": [
       "array([[[[8, 7],\n",
       "         [3, 1]],\n",
       "\n",
       "        [[5, 7],\n",
       "         [5, 9]]],\n",
       "\n",
       "\n",
       "       [[[2, 5],\n",
       "         [9, 2]],\n",
       "\n",
       "        [[7, 7],\n",
       "         [8, 8]]]])"
      ]
     },
     "execution_count": 45,
     "metadata": {},
     "output_type": "execute_result"
    }
   ],
   "source": [
    "randnums[:2,:2,:2,:2]"
   ]
  },
  {
   "cell_type": "code",
   "execution_count": 46,
   "id": "9b61238a-c332-4410-9c60-6726990f887e",
   "metadata": {},
   "outputs": [
    {
     "data": {
      "text/plain": [
       "array([[50, 34,  3, 98, 98, 99],\n",
       "       [13, 83, 78, 67, 38, 32],\n",
       "       [57, 82, 88, 82, 56, 98],\n",
       "       [75, 16, 80, 81, 39, 56],\n",
       "       [50, 91,  3, 71, 98,  6]])"
      ]
     },
     "execution_count": 46,
     "metadata": {},
     "output_type": "execute_result"
    }
   ],
   "source": [
    "randints = np.random.randint(1, 100, (5,6))\n",
    "randints"
   ]
  },
  {
   "cell_type": "code",
   "execution_count": 49,
   "id": "39a8767e-9d42-43a6-8a1e-070652dccaf3",
   "metadata": {},
   "outputs": [
    {
     "data": {
      "text/plain": [
       "60.733333333333334"
      ]
     },
     "execution_count": 49,
     "metadata": {},
     "output_type": "execute_result"
    }
   ],
   "source": [
    "randints.mean()"
   ]
  },
  {
   "cell_type": "code",
   "execution_count": 50,
   "id": "b08ac8e5-20ff-4791-a0a0-18e710d0bac8",
   "metadata": {},
   "outputs": [
    {
     "data": {
      "text/plain": [
       "99"
      ]
     },
     "execution_count": 50,
     "metadata": {},
     "output_type": "execute_result"
    }
   ],
   "source": [
    "randints.max()"
   ]
  },
  {
   "cell_type": "code",
   "execution_count": 51,
   "id": "d855adfc-1ac9-46b6-bc28-aace35b4c689",
   "metadata": {},
   "outputs": [
    {
     "data": {
      "text/plain": [
       "3"
      ]
     },
     "execution_count": 51,
     "metadata": {},
     "output_type": "execute_result"
    }
   ],
   "source": [
    "randints.min()"
   ]
  },
  {
   "cell_type": "code",
   "execution_count": 64,
   "id": "fdc6574e-c457-48b9-9e87-65d3d35a8cb0",
   "metadata": {},
   "outputs": [],
   "source": [
    "huge_array = np.random.randint(1, 100, (100000,100))"
   ]
  },
  {
   "cell_type": "code",
   "execution_count": 65,
   "id": "9439d6a1-56e5-4803-8256-f5b72299c956",
   "metadata": {},
   "outputs": [
    {
     "name": "stdout",
     "output_type": "stream",
     "text": [
      "51.8 ms ± 780 µs per loop (mean ± std. dev. of 7 runs, 10 loops each)\n",
      "4.73 ms ± 83.6 µs per loop (mean ± std. dev. of 7 runs, 100 loops each)\n"
     ]
    }
   ],
   "source": [
    "%timeit sum(huge_array)\n",
    "%timeit np.sum(huge_array)"
   ]
  },
  {
   "cell_type": "code",
   "execution_count": 66,
   "id": "e7899990-e7c1-45fc-998e-2c5a7ab251bb",
   "metadata": {},
   "outputs": [
    {
     "data": {
      "text/plain": [
       "array([5001990, 5021177, 4985451, 4994647, 4998991, 4988140, 4986468,\n",
       "       5001834, 5003509, 4999588, 5017305, 4995718, 4997937, 4998421,\n",
       "       5007233, 5012458, 5007957, 4997291, 5014642, 5012438, 5001247,\n",
       "       4995970, 5000476, 5005424, 5001390, 5003105, 4997979, 5003095,\n",
       "       4985526, 4991244, 4993707, 4991150, 5009416, 4991163, 4997384,\n",
       "       5003011, 5010601, 4987190, 5017226, 4997690, 4999191, 5010393,\n",
       "       4994342, 5009808, 4990918, 4999381, 5017490, 4976485, 4990372,\n",
       "       5009984, 4996803, 5000077, 5001195, 5001914, 4998277, 5002329,\n",
       "       5004890, 5004039, 4992169, 5002302, 5002047, 4999280, 5008270,\n",
       "       4995097, 5011428, 5001328, 5009090, 5013534, 5020541, 4998304,\n",
       "       5018732, 5003424, 5009240, 5011131, 4997026, 4989249, 5008065,\n",
       "       5011618, 4996238, 5002828, 4990095, 4995347, 5003864, 5012144,\n",
       "       5006092, 4995279, 5001815, 4991122, 5013080, 5013220, 5011741,\n",
       "       4997867, 5001432, 5000352, 4998391, 5010794, 5001359, 5003688,\n",
       "       5007148, 4987918])"
      ]
     },
     "execution_count": 66,
     "metadata": {},
     "output_type": "execute_result"
    }
   ],
   "source": [
    "sum(huge_array)"
   ]
  },
  {
   "cell_type": "code",
   "execution_count": 67,
   "id": "ba5dec6d-038a-4c1d-843e-353e5e4c63eb",
   "metadata": {},
   "outputs": [
    {
     "data": {
      "text/plain": [
       "500178766"
      ]
     },
     "execution_count": 67,
     "metadata": {},
     "output_type": "execute_result"
    }
   ],
   "source": [
    "np.sum(huge_array)"
   ]
  },
  {
   "cell_type": "code",
   "execution_count": 68,
   "id": "d981a5e3-7dd8-4b61-9713-eaf5ce44dd2b",
   "metadata": {},
   "outputs": [
    {
     "data": {
      "text/plain": [
       "816.5675362271722"
      ]
     },
     "execution_count": 68,
     "metadata": {},
     "output_type": "execute_result"
    }
   ],
   "source": [
    "np.var(huge_array)"
   ]
  },
  {
   "cell_type": "code",
   "execution_count": 69,
   "id": "3b41bea5-953d-4ad1-ad01-dd3633c5220b",
   "metadata": {},
   "outputs": [
    {
     "data": {
      "text/plain": [
       "28.57564585844338"
      ]
     },
     "execution_count": 69,
     "metadata": {},
     "output_type": "execute_result"
    }
   ],
   "source": [
    "np.std(huge_array)"
   ]
  },
  {
   "cell_type": "code",
   "execution_count": 70,
   "id": "f3fa2f16-52cb-4a5d-8dc7-11ed4f033cf1",
   "metadata": {},
   "outputs": [
    {
     "data": {
      "text/plain": [
       "28.57564585844338"
      ]
     },
     "execution_count": 70,
     "metadata": {},
     "output_type": "execute_result"
    }
   ],
   "source": [
    "np.sqrt(np.var(huge_array))"
   ]
  },
  {
   "cell_type": "code",
   "execution_count": 71,
   "id": "31f40afb-6197-4444-87df-b2edeab60926",
   "metadata": {},
   "outputs": [],
   "source": [
    "high_var_array = np.array([1, 100, 200, 300, 4000, 5000])\n",
    "low_var_array = np.array([2, 4, 6, 8, 10])"
   ]
  },
  {
   "cell_type": "code",
   "execution_count": 72,
   "id": "0617c347-7fdb-44e4-81ee-04b04156b1cd",
   "metadata": {},
   "outputs": [
    {
     "data": {
      "text/plain": [
       "(4296133.472222221, 8.0)"
      ]
     },
     "execution_count": 72,
     "metadata": {},
     "output_type": "execute_result"
    }
   ],
   "source": [
    "np.var(high_var_array), np.var(low_var_array)"
   ]
  },
  {
   "cell_type": "code",
   "execution_count": 74,
   "id": "5870bbdc-c047-41d4-9526-ff584cc1b62c",
   "metadata": {},
   "outputs": [
    {
     "data": {
      "text/plain": [
       "(2072.711623024829, 2.8284271247461903)"
      ]
     },
     "execution_count": 74,
     "metadata": {},
     "output_type": "execute_result"
    }
   ],
   "source": [
    "np.std(high_var_array), np.std(low_var_array)"
   ]
  },
  {
   "cell_type": "code",
   "execution_count": 76,
   "id": "69489274-ad4d-4d63-a9e4-abded3123213",
   "metadata": {},
   "outputs": [
    {
     "data": {
      "text/plain": [
       "(1600.1666666666667, 6.0)"
      ]
     },
     "execution_count": 76,
     "metadata": {},
     "output_type": "execute_result"
    }
   ],
   "source": [
    "np.mean(high_var_array), np.mean(low_var_array)"
   ]
  },
  {
   "cell_type": "code",
   "execution_count": 91,
   "id": "eda2a500-c93f-4d9e-b40a-eb85861192dc",
   "metadata": {},
   "outputs": [
    {
     "data": {
      "text/plain": [
       "(array([4., 0., 0., 0., 0., 0., 0., 1., 0., 1.]),\n",
       " array([1.0000e+00, 5.0090e+02, 1.0008e+03, 1.5007e+03, 2.0006e+03,\n",
       "        2.5005e+03, 3.0004e+03, 3.5003e+03, 4.0002e+03, 4.5001e+03,\n",
       "        5.0000e+03]),\n",
       " <BarContainer object of 10 artists>)"
      ]
     },
     "execution_count": 91,
     "metadata": {},
     "output_type": "execute_result"
    },
    {
     "data": {
      "image/png": "[encoded data removed]",
      "text/plain": [
       "<Figure size 640x480 with 1 Axes>"
      ]
     },
     "metadata": {},
     "output_type": "display_data"
    }
   ],
   "source": [
    "plt.hist(high_var_array)"
   ]
  },
  {
   "cell_type": "code",
   "execution_count": 92,
   "id": "7aa7dc6f-d0b5-4dd8-88e4-22b08233cd45",
   "metadata": {},
   "outputs": [
    {
     "data": {
      "text/plain": [
       "(array([1., 0., 1., 0., 0., 1., 0., 1., 0., 1.]),\n",
       " array([ 2. ,  2.8,  3.6,  4.4,  5.2,  6. ,  6.8,  7.6,  8.4,  9.2, 10. ]),\n",
       " <BarContainer object of 10 artists>)"
      ]
     },
     "execution_count": 92,
     "metadata": {},
     "output_type": "execute_result"
    },
    {
     "data": {
      "image/png": "[encoded data removed]",
      "text/plain": [
       "<Figure size 640x480 with 1 Axes>"
      ]
     },
     "metadata": {},
     "output_type": "display_data"
    }
   ],
   "source": [
    "plt.hist(low_var_array)"
   ]
  },
  {
   "cell_type": "code",
   "execution_count": 99,
   "id": "95bd269a-86d0-4426-b2ec-26b5ee33d5ec",
   "metadata": {},
   "outputs": [
    {
     "data": {
      "text/plain": [
       "array([[33, 75, 54],\n",
       "       [64,  8, 93]])"
      ]
     },
     "execution_count": 99,
     "metadata": {},
     "output_type": "execute_result"
    }
   ],
   "source": [
    "arr_one = np.random.randint(1, 100, (2, 3))\n",
    "arr_one"
   ]
  },
  {
   "cell_type": "code",
   "execution_count": 100,
   "id": "27b3682c-f696-4402-9bed-4c701eb57278",
   "metadata": {},
   "outputs": [
    {
     "data": {
      "text/plain": [
       "array([[[93,  1, 19, 73, 15, 74],\n",
       "        [69, 29, 42, 55, 57, 34],\n",
       "        [83, 26,  6, 18, 85, 63]],\n",
       "\n",
       "       [[88, 42, 33, 28, 44, 86],\n",
       "        [76, 83, 22, 66, 39, 90],\n",
       "        [77, 17, 56, 94, 11,  3]]])"
      ]
     },
     "execution_count": 100,
     "metadata": {},
     "output_type": "execute_result"
    }
   ],
   "source": [
    "arr_two = np.random.randint(1, 100, (2, 3, 6))\n",
    "arr_two"
   ]
  },
  {
   "cell_type": "code",
   "execution_count": 101,
   "id": "c7d20ca9-e767-4e1b-8c39-7c70abad3322",
   "metadata": {},
   "outputs": [
    {
     "ename": "ValueError",
     "evalue": "operands could not be broadcast together with shapes (2,3) (2,3,6) ",
     "output_type": "error",
     "traceback": [
      "\u001b[0;31m---------------------------------------------------------------------------\u001b[0m",
      "\u001b[0;31mValueError\u001b[0m                                Traceback (most recent call last)",
      "Cell \u001b[0;32mIn[101], line 1\u001b[0m\n\u001b[0;32m----> 1\u001b[0m arr_one \u001b[38;5;241m*\u001b[39m arr_two\n",
      "\u001b[0;31mValueError\u001b[0m: operands could not be broadcast together with shapes (2,3) (2,3,6) "
     ]
    }
   ],
   "source": [
    "arr_one * arr_two"
   ]
  },
  {
   "cell_type": "code",
   "execution_count": 102,
   "id": "d9c4f9f4-82d3-46fd-b597-7d227493200f",
   "metadata": {},
   "outputs": [
    {
     "data": {
      "text/plain": [
       "array([[[33],\n",
       "        [75],\n",
       "        [54]],\n",
       "\n",
       "       [[64],\n",
       "        [ 8],\n",
       "        [93]]])"
      ]
     },
     "execution_count": 102,
     "metadata": {},
     "output_type": "execute_result"
    }
   ],
   "source": [
    "arr_one_reshaped = arr_one.reshape(2, 3, 1)\n",
    "arr_one_reshaped"
   ]
  },
  {
   "cell_type": "code",
   "execution_count": 104,
   "id": "dd22f3d0-436f-41f8-bad4-1d1098f90979",
   "metadata": {},
   "outputs": [],
   "source": [
    "muls = arr_one_reshaped * arr_two"
   ]
  },
  {
   "cell_type": "code",
   "execution_count": 105,
   "id": "8d00ae07-aa14-4106-a32e-a9fcf5dc0d12",
   "metadata": {},
   "outputs": [
    {
     "data": {
      "text/plain": [
       "array([[[3069,   33,  627, 2409,  495, 2442],\n",
       "        [5175, 2175, 3150, 4125, 4275, 2550],\n",
       "        [4482, 1404,  324,  972, 4590, 3402]],\n",
       "\n",
       "       [[5632, 2688, 2112, 1792, 2816, 5504],\n",
       "        [ 608,  664,  176,  528,  312,  720],\n",
       "        [7161, 1581, 5208, 8742, 1023,  279]]])"
      ]
     },
     "execution_count": 105,
     "metadata": {},
     "output_type": "execute_result"
    }
   ],
   "source": [
    "muls"
   ]
  },
  {
   "cell_type": "code",
   "execution_count": 106,
   "id": "72a7eb3b-7018-44eb-a001-3e5b6c6cbb24",
   "metadata": {},
   "outputs": [
    {
     "data": {
      "text/plain": [
       "array([[[3069, 5632],\n",
       "        [5175,  608],\n",
       "        [4482, 7161]],\n",
       "\n",
       "       [[  33, 2688],\n",
       "        [2175,  664],\n",
       "        [1404, 1581]],\n",
       "\n",
       "       [[ 627, 2112],\n",
       "        [3150,  176],\n",
       "        [ 324, 5208]],\n",
       "\n",
       "       [[2409, 1792],\n",
       "        [4125,  528],\n",
       "        [ 972, 8742]],\n",
       "\n",
       "       [[ 495, 2816],\n",
       "        [4275,  312],\n",
       "        [4590, 1023]],\n",
       "\n",
       "       [[2442, 5504],\n",
       "        [2550,  720],\n",
       "        [3402,  279]]])"
      ]
     },
     "execution_count": 106,
     "metadata": {},
     "output_type": "execute_result"
    }
   ],
   "source": [
    "muls.transpose()"
   ]
  },
  {
   "cell_type": "code",
   "execution_count": 107,
   "id": "6abc338c-2348-4b58-bcb4-371a6fa0eee5",
   "metadata": {},
   "outputs": [
    {
     "data": {
      "text/plain": [
       "array([[[3069, 5632],\n",
       "        [5175,  608],\n",
       "        [4482, 7161]],\n",
       "\n",
       "       [[  33, 2688],\n",
       "        [2175,  664],\n",
       "        [1404, 1581]],\n",
       "\n",
       "       [[ 627, 2112],\n",
       "        [3150,  176],\n",
       "        [ 324, 5208]],\n",
       "\n",
       "       [[2409, 1792],\n",
       "        [4125,  528],\n",
       "        [ 972, 8742]],\n",
       "\n",
       "       [[ 495, 2816],\n",
       "        [4275,  312],\n",
       "        [4590, 1023]],\n",
       "\n",
       "       [[2442, 5504],\n",
       "        [2550,  720],\n",
       "        [3402,  279]]])"
      ]
     },
     "execution_count": 107,
     "metadata": {},
     "output_type": "execute_result"
    }
   ],
   "source": [
    "muls.T"
   ]
  },
  {
   "cell_type": "markdown",
   "id": "13810528-860b-4748-8fc4-3e918373d493",
   "metadata": {},
   "source": [
    "#### Comparision Operators"
   ]
  },
  {
   "cell_type": "code",
   "execution_count": 3,
   "id": "53ea85d7-3a10-4535-9ecb-b1030ff4f976",
   "metadata": {},
   "outputs": [],
   "source": [
    "a1 = np.array([1,2,3])"
   ]
  },
  {
   "cell_type": "code",
   "execution_count": 4,
   "id": "114117ca-45b0-40ba-8ff6-9192762750dd",
   "metadata": {},
   "outputs": [],
   "source": [
    "a2 = np.array([[1,2.5,3],[4,1,6]])"
   ]
  },
  {
   "cell_type": "code",
   "execution_count": 5,
   "id": "642b7eaf-6ecb-43f3-b400-4b053304f055",
   "metadata": {},
   "outputs": [
    {
     "data": {
      "text/plain": [
       "array([[False, False, False],\n",
       "       [False, False, False]])"
      ]
     },
     "execution_count": 5,
     "metadata": {},
     "output_type": "execute_result"
    }
   ],
   "source": [
    "a1 > a2"
   ]
  },
  {
   "cell_type": "code",
   "execution_count": 7,
   "id": "dd651bf4-5cc4-424a-9cba-528de9f03383",
   "metadata": {},
   "outputs": [
    {
     "data": {
      "text/plain": [
       "array([[ True, False,  True],\n",
       "       [False, False, False]])"
      ]
     },
     "execution_count": 7,
     "metadata": {},
     "output_type": "execute_result"
    }
   ],
   "source": [
    "a1 >= a2"
   ]
  },
  {
   "cell_type": "markdown",
   "id": "48592b86-5b55-4dc3-ac92-8e11eeee4384",
   "metadata": {},
   "source": [
    "#### Sorting Arrays"
   ]
  },
  {
   "cell_type": "code",
   "execution_count": 12,
   "id": "ce74b32e-1f40-45c4-9160-d6548f40d7b2",
   "metadata": {},
   "outputs": [
    {
     "data": {
      "text/plain": [
       "array([[3, 0, 6, 3, 8],\n",
       "       [2, 7, 7, 1, 4],\n",
       "       [2, 3, 9, 5, 8]])"
      ]
     },
     "execution_count": 12,
     "metadata": {},
     "output_type": "execute_result"
    }
   ],
   "source": [
    "random_array = np.random.randint(0, 10, (3, 5))\n",
    "random_array"
   ]
  },
  {
   "cell_type": "code",
   "execution_count": 13,
   "id": "7ba1bc39-0c78-4890-bff5-1871393e7cd9",
   "metadata": {},
   "outputs": [
    {
     "data": {
      "text/plain": [
       "array([[0, 3, 3, 6, 8],\n",
       "       [1, 2, 4, 7, 7],\n",
       "       [2, 3, 5, 8, 9]])"
      ]
     },
     "execution_count": 13,
     "metadata": {},
     "output_type": "execute_result"
    }
   ],
   "source": [
    "np.sort(random_array)"
   ]
  },
  {
   "cell_type": "code",
   "execution_count": 14,
   "id": "6840f38d-92b2-448a-8ca8-2b668396127d",
   "metadata": {},
   "outputs": [
    {
     "data": {
      "text/plain": [
       "array([[1, 0, 3, 2, 4],\n",
       "       [3, 0, 4, 1, 2],\n",
       "       [0, 1, 3, 4, 2]])"
      ]
     },
     "execution_count": 14,
     "metadata": {},
     "output_type": "execute_result"
    }
   ],
   "source": [
    "# Indexes of the sorted array\n",
    "np.argsort(random_array)"
   ]
  },
  {
   "cell_type": "code",
   "execution_count": 15,
   "id": "b8c05054-3a8b-4c20-b2c8-0cf5d9e54776",
   "metadata": {},
   "outputs": [],
   "source": [
    "a1 = np.array([1,2,3])"
   ]
  },
  {
   "cell_type": "code",
   "execution_count": 17,
   "id": "ab579a4f-043e-4da0-8e9b-d69ddddb476c",
   "metadata": {},
   "outputs": [
    {
     "data": {
      "text/plain": [
       "array([0, 1, 2])"
      ]
     },
     "execution_count": 17,
     "metadata": {},
     "output_type": "execute_result"
    }
   ],
   "source": [
    "np.argsort(a1)"
   ]
  },
  {
   "cell_type": "code",
   "execution_count": 18,
   "id": "d4c3ba39-497c-4b68-8b81-df355ededcee",
   "metadata": {},
   "outputs": [
    {
     "data": {
      "text/plain": [
       "1"
      ]
     },
     "execution_count": 18,
     "metadata": {},
     "output_type": "execute_result"
    }
   ],
   "source": [
    "np.argmin(random_array)"
   ]
  },
  {
   "cell_type": "code",
   "execution_count": 19,
   "id": "54d56ed5-7bc5-4670-970c-b1341c4ee9a2",
   "metadata": {},
   "outputs": [
    {
     "data": {
      "text/plain": [
       "0"
      ]
     },
     "execution_count": 19,
     "metadata": {},
     "output_type": "execute_result"
    }
   ],
   "source": [
    "np.argmin(a1)"
   ]
  },
  {
   "cell_type": "code",
   "execution_count": 20,
   "id": "c3ead27e-3e82-477a-9e88-e45b4282324f",
   "metadata": {},
   "outputs": [
    {
     "data": {
      "text/plain": [
       "array([0, 1, 2, 2, 0])"
      ]
     },
     "execution_count": 20,
     "metadata": {},
     "output_type": "execute_result"
    }
   ],
   "source": [
    "np.argmax(random_array, axis=0)"
   ]
  },
  {
   "cell_type": "code",
   "execution_count": 21,
   "id": "48a09e40-647b-44f9-a588-ed6f2329f21a",
   "metadata": {},
   "outputs": [
    {
     "data": {
      "text/plain": [
       "array([1, 3, 0])"
      ]
     },
     "execution_count": 21,
     "metadata": {},
     "output_type": "execute_result"
    }
   ],
   "source": [
    "np.argmin(random_array, axis=1)"
   ]
  },
  {
   "cell_type": "markdown",
   "id": "26a5c269-832e-46ae-adb1-da58c769f2aa",
   "metadata": {},
   "source": [
    "#### Images"
   ]
  },
  {
   "cell_type": "code",
   "execution_count": 27,
   "id": "2024076f-51c4-4833-a195-1a7a541b8623",
   "metadata": {},
   "outputs": [],
   "source": [
    "from matplotlib.image import imread, imsave"
   ]
  },
  {
   "cell_type": "markdown",
   "id": "2b8c3264-595e-4bb8-afe8-324103a5673d",
   "metadata": {},
   "source": [
    "<img src=\"images/panda.png\" width=300 height=300 />"
   ]
  },
  {
   "cell_type": "code",
   "execution_count": 28,
   "id": "7c5f4072-62aa-4574-bd96-21618d6188f6",
   "metadata": {},
   "outputs": [],
   "source": [
    "panda = imread('images/panda.png')"
   ]
  },
  {
   "cell_type": "code",
   "execution_count": 31,
   "id": "9d4b1330-a40e-465d-94c7-23000cfe281b",
   "metadata": {},
   "outputs": [
    {
     "data": {
      "text/plain": [
       "(24465000, (2330, 3500, 3), 3)"
      ]
     },
     "execution_count": 31,
     "metadata": {},
     "output_type": "execute_result"
    }
   ],
   "source": [
    "panda.size, panda.shape, panda.ndim"
   ]
  }
 ],
 "metadata": {
  "kernelspec": {
   "display_name": "Python 3 (ipykernel)",
   "language": "python",
   "name": "python3"
  },
  "language_info": {
   "codemirror_mode": {
    "name": "ipython",
    "version": 3
   },
   "file_extension": ".py",
   "mimetype": "text/x-python",
   "name": "python",
   "nbconvert_exporter": "python",
   "pygments_lexer": "ipython3",
   "version": "3.12.2"
  }
 },
 "nbformat": 4,
 "nbformat_minor": 5
}
