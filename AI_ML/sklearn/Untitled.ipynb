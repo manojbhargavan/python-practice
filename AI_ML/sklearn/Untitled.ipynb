{
 "cells": [
  {
   "cell_type": "code",
   "execution_count": 16,
   "id": "69d6841d-eae3-4e6a-82b2-89ace4770112",
   "metadata": {},
   "outputs": [
    {
     "data": {
      "text/plain": [
       "numpy.ndarray"
      ]
     },
     "execution_count": 16,
     "metadata": {},
     "output_type": "execute_result"
    }
   ],
   "source": [
    "import pandas as pd\n",
    "import numpy as np\n",
    "\n",
    "# Load Data set\n",
    "car_sales = pd.read_csv('../data/car-sales-extended-missing-data.csv')\n",
    "\n",
    "# Drop missing Prices\n",
    "car_sales.dropna(subset='Price', inplace=True)\n",
    "\n",
    "# Impute Make and Colour\n",
    "from sklearn.impute import SimpleImputer\n",
    "from sklearn.compose import ColumnTransformer\n",
    "text_imputer = SimpleImputer(strategy='constant', fill_value='not-present')\n",
    "transformer = ColumnTransformer([('text_imp', text_imputer, ['Make', 'Colour'])], \n",
    "                                remainder='passthrough', \n",
    "                                sparse_threshold=0)\n",
    "\n",
    "\n",
    "car_sales_imputed = transformer.fit_transform(car_sales)\n",
    "\n",
    "car_sales_cols = list(car_sales.columns)\n",
    "car_sales_filled_make_colour = pd.DataFrame(car_sales_imputed, columns=car_sales_cols)\n",
    "car_sales_filled_make_colour[car_sales_filled_make_colour['Make']=='not-present'].head(2),\n",
    "type(car_sales_imputed)"
   ]
  },
  {
   "cell_type": "code",
   "execution_count": 14,
   "id": "402fe0da-3062-4700-a6f9-b947f2b59125",
   "metadata": {},
   "outputs": [
    {
     "data": {
      "text/plain": [
       "Make              0\n",
       "Colour            0\n",
       "Odometer (KM)    48\n",
       "Doors            47\n",
       "Price             0\n",
       "dtype: int64"
      ]
     },
     "execution_count": 14,
     "metadata": {},
     "output_type": "execute_result"
    }
   ],
   "source": [
    "car_sales_filled_make_colour.isna().sum()"
   ]
  },
  {
   "cell_type": "code",
   "execution_count": null,
   "id": "b8b87ab6-f877-4cc2-98ad-457eb7ba5ad1",
   "metadata": {},
   "outputs": [],
   "source": []
  }
 ],
 "metadata": {
  "kernelspec": {
   "display_name": "Python 3 (ipykernel)",
   "language": "python",
   "name": "python3"
  },
  "language_info": {
   "codemirror_mode": {
    "name": "ipython",
    "version": 3
   },
   "file_extension": ".py",
   "mimetype": "text/x-python",
   "name": "python",
   "nbconvert_exporter": "python",
   "pygments_lexer": "ipython3",
   "version": "3.12.2"
  }
 },
 "nbformat": 4,
 "nbformat_minor": 5
}
