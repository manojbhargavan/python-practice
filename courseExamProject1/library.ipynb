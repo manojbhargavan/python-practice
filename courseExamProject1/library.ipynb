{
 "cells": [
  {
   "cell_type": "code",
   "execution_count": null,
   "id": "9e08f5ad",
   "metadata": {},
   "outputs": [],
   "source": [
    "from datetime import date\n",
    "from datetime import timedelta\n",
    "\n",
    "class LibraryItem(object):\n",
    "    '''\n",
    "        Attributes\n",
    "        ----------\n",
    "        item_number: unique number of the item\n",
    "        status: available or borrowed\n",
    "        borrowing_stats: statistics about the item\n",
    "    '''\n",
    "    \n",
    "    def __init__(self, item_number):\n",
    "        self.item_number = item_number\n",
    "        self.status = 'available'\n",
    "        self.borrowing_stats = dict()\n",
    "        \n",
    "    def borrow_item(self, personal_number):\n",
    "        if self.status == 'available':\n",
    "            self.borrowing_stats[personal_number] = {'Borrowed on':date.today(), \n",
    "                                                     'Return by':date.today()+timedelta(days=30), \n",
    "                                                     'Returned on':'-'}\n",
    "            self.status = 'borrowed'\n",
    "        else:\n",
    "            print('Item is already borrowed.')\n",
    "        \n",
    "    def return_item(self, personal_number):\n",
    "        pass\n",
    "        \n",
    "    def get_info(self):\n",
    "        print(f'Item type: Library item\\\n",
    "        \\nItem number: {self.item_number}\\n')\n",
    "        \n",
    "        print(f'The item is currently {self.status}.\\n')\n",
    "        \n",
    "        for k, v in self.borrowing_stats.items():\n",
    "            ''' Enter your code for question 4. '''\n",
    "            ''' Enter your code for question 5. '''\n",
    "            print('\\n')\n",
    "            \n",
    "class Book(LibraryItem):\n",
    "    '''Books in the library'''\n",
    "    \n",
    "    def __init__(self, item_number, title, author, publisher):\n",
    "        super().__init__(item_number)\n",
    "        self.title = title\n",
    "        self.author = author\n",
    "        self.publisher = publisher\n",
    "        \n",
    "    def get_info(self):\n",
    "        pass\n",
    "            \n",
    "class CD(LibraryItem):\n",
    "    '''CDs in the library'''\n",
    "    \n",
    "    def __init__(self, item_number, title):\n",
    "        super().__init__(item_number)\n",
    "        self.title = title\n",
    "        \n",
    "    def get_info(self):\n",
    "        pass\n",
    "    \n",
    "class Member():\n",
    "    pass"
   ]
  },
  {
   "cell_type": "markdown",
   "id": "25a9b839",
   "metadata": {},
   "source": [
    "### Question 1"
   ]
  },
  {
   "cell_type": "code",
   "execution_count": null,
   "id": "9a70c2ad",
   "metadata": {},
   "outputs": [],
   "source": [
    "item1 = LibraryItem(123)\n",
    "item2 = LibraryItem(124)\n",
    "book = Book(125, 'Matilda', 'Roald Dahl', 'Jonathan Cape')\n",
    "cd = CD(126, 'Matilda')"
   ]
  },
  {
   "cell_type": "markdown",
   "id": "c979a407",
   "metadata": {},
   "source": [
    "### Question 5"
   ]
  },
  {
   "cell_type": "code",
   "execution_count": null,
   "id": "4b379a1a",
   "metadata": {},
   "outputs": [],
   "source": [
    "item1.borrow_item('98-1201')"
   ]
  }
 ],
 "metadata": {
  "kernelspec": {
   "display_name": "Python 3 (ipykernel)",
   "language": "python",
   "name": "python3"
  },
  "language_info": {
   "codemirror_mode": {
    "name": "ipython",
    "version": 3
   },
   "file_extension": ".py",
   "mimetype": "text/x-python",
   "name": "python",
   "nbconvert_exporter": "python",
   "pygments_lexer": "ipython3",
   "version": "3.11.5"
  }
 },
 "nbformat": 4,
 "nbformat_minor": 5
}
