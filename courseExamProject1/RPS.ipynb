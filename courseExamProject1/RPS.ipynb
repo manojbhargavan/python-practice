{
 "cells": [
  {
   "cell_type": "code",
   "execution_count": null,
   "id": "b10df338",
   "metadata": {},
   "outputs": [],
   "source": [
    "## Rock, Paper, Scissors\n",
    "\n",
    "# Import random module for the computer's choice\n",
    "import random\n",
    "random.seed = 365\n",
    "\n",
    "# Mapping of numbers to rock, paper & scissors\n",
    "int2choice = {0:'R', 1:'P', 2:'S'}\n",
    "\n",
    "# Class to play the game\n",
    "class RPS_Game(object):\n",
    "    \n",
    "    # Initialize the game\n",
    "    def __init__(num_rounds):\n",
    "        self.num_rounds = num_rounds # record the total number of rounds\n",
    "        self.counter_pc_wins = 0     # how many rounds are won by the PC\n",
    "        self.draws = 0               # how many rounds end in a draw\n",
    "        print(f\"Start of Rock-Paper-Scissors Game - {num_rounds} rounds.\")\n",
    "        \n",
    "    # The play() method implements the game logic\n",
    "    def play(self):\n",
    "        for nr in range(self.num_rounds):\n",
    "            print(f\"It's round No. {nr+1}.\")\n",
    "            ''' Your code for Question 2 goes here. '''\n",
    "            \n",
    "            # Validation is required\n",
    "            while user_choice not in {'R', 'P', 'S'}:\n",
    "                print(\"Invalid move. Please enter 'R', 'P' or 'S'.\")\n",
    "                ''' Your code for Question 2 goes here. '''\n",
    "                                \n",
    "            # Computer choice\n",
    "            pc_choice = int2choice[random.randint(0, 2)]\n",
    "            print(f\"Computer's choice: {pc_choice}\")\n",
    "            \n",
    "            if \n",
    "                           \n",
    "            elif \n",
    "                \n",
    "            else:\n",
    "                \n",
    "            # Keep track of the game's progress\n",
    "            print(f\"Current result: PC (''' CODE: PART 1 ''') - \",end='')\n",
    "            print(f\"You (''' CODE: PART 2 ''')\")\n",
    "            print('-'*30)"
   ]
  },
  {
   "cell_type": "markdown",
   "id": "a0db6a62",
   "metadata": {},
   "source": [
    "## Questions 2 and 6"
   ]
  },
  {
   "cell_type": "markdown",
   "id": "9d957932",
   "metadata": {},
   "source": [
    "### Declare an RPS_Game object where 6 instances of RPS are played. Run the game"
   ]
  },
  {
   "cell_type": "code",
   "execution_count": null,
   "id": "f1d6e1d8",
   "metadata": {},
   "outputs": [],
   "source": []
  }
 ],
 "metadata": {
  "kernelspec": {
   "display_name": "Python 3 (ipykernel)",
   "language": "python",
   "name": "python3"
  },
  "language_info": {
   "codemirror_mode": {
    "name": "ipython",
    "version": 3
   },
   "file_extension": ".py",
   "mimetype": "text/x-python",
   "name": "python",
   "nbconvert_exporter": "python",
   "pygments_lexer": "ipython3",
   "version": "3.11.5"
  }
 },
 "nbformat": 4,
 "nbformat_minor": 5
}
