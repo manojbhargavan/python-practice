{
 "cells": [
  {
   "cell_type": "code",
   "execution_count": 1,
   "id": "87bd1884",
   "metadata": {},
   "outputs": [],
   "source": [
    "import pandas as pd"
   ]
  },
  {
   "cell_type": "code",
   "execution_count": 2,
   "id": "b718caa4",
   "metadata": {},
   "outputs": [],
   "source": [
    "data_dict = {\n",
    "    '7/4/2022': 2456,\n",
    "    '8/15/2022': 3210,\n",
    "    '9/1/2022': 1789,\n",
    "    '10/12/2022': 4567,\n",
    "    '11/5/2022': 9876,\n",
    "    '12/25/2022': 5432,\n",
    "    '1/15/2023': 8765,\n",
    "    '2/28/2023': 1234,\n",
    "    '3/10/2023': 5678,\n",
    "    '4/22/2023': 2345,\n",
    "    '5/7/2023': 7890,\n",
    "    '6/18/2023': 3456,\n",
    "    '7/1/2023': 9012,\n",
    "    '8/14/2023': 6789,\n",
    "    '9/30/2023': 3210\n",
    "}"
   ]
  },
  {
   "cell_type": "code",
   "execution_count": 3,
   "id": "5a1a7dda",
   "metadata": {},
   "outputs": [],
   "source": [
    "start_date_deposit = pd.Series(data_dict)"
   ]
  },
  {
   "cell_type": "code",
   "execution_count": 4,
   "id": "f2285ca6",
   "metadata": {},
   "outputs": [
    {
     "data": {
      "text/plain": [
       "7/4/2022      2456\n",
       "8/15/2022     3210\n",
       "9/1/2022      1789\n",
       "10/12/2022    4567\n",
       "11/5/2022     9876\n",
       "12/25/2022    5432\n",
       "1/15/2023     8765\n",
       "2/28/2023     1234\n",
       "3/10/2023     5678\n",
       "4/22/2023     2345\n",
       "5/7/2023      7890\n",
       "6/18/2023     3456\n",
       "7/1/2023      9012\n",
       "8/14/2023     6789\n",
       "9/30/2023     3210\n",
       "dtype: int64"
      ]
     },
     "execution_count": 4,
     "metadata": {},
     "output_type": "execute_result"
    }
   ],
   "source": [
    "start_date_deposit"
   ]
  },
  {
   "cell_type": "code",
   "execution_count": 6,
   "id": "e18fba2a",
   "metadata": {},
   "outputs": [
    {
     "data": {
      "text/plain": [
       "75709"
      ]
     },
     "execution_count": 6,
     "metadata": {},
     "output_type": "execute_result"
    }
   ],
   "source": [
    "start_date_deposit.sum()"
   ]
  },
  {
   "cell_type": "code",
   "execution_count": 7,
   "id": "648e7865",
   "metadata": {},
   "outputs": [
    {
     "data": {
      "text/plain": [
       "1234"
      ]
     },
     "execution_count": 7,
     "metadata": {},
     "output_type": "execute_result"
    }
   ],
   "source": [
    "start_date_deposit.min()"
   ]
  },
  {
   "cell_type": "code",
   "execution_count": 8,
   "id": "b129d81d",
   "metadata": {},
   "outputs": [
    {
     "data": {
      "text/plain": [
       "9876"
      ]
     },
     "execution_count": 8,
     "metadata": {},
     "output_type": "execute_result"
    }
   ],
   "source": [
    "start_date_deposit.max()"
   ]
  },
  {
   "cell_type": "code",
   "execution_count": 9,
   "id": "5bed8101",
   "metadata": {},
   "outputs": [
    {
     "data": {
      "text/plain": [
       "'11/5/2022'"
      ]
     },
     "execution_count": 9,
     "metadata": {},
     "output_type": "execute_result"
    }
   ],
   "source": [
    "start_date_deposit.idxmax()"
   ]
  },
  {
   "cell_type": "code",
   "execution_count": 10,
   "id": "1e7b2394",
   "metadata": {},
   "outputs": [
    {
     "data": {
      "text/plain": [
       "'2/28/2023'"
      ]
     },
     "execution_count": 10,
     "metadata": {},
     "output_type": "execute_result"
    }
   ],
   "source": [
    "start_date_deposit.idxmin()"
   ]
  },
  {
   "cell_type": "code",
   "execution_count": 11,
   "id": "901385cb",
   "metadata": {},
   "outputs": [
    {
     "data": {
      "text/plain": [
       "7/4/2022      2456\n",
       "8/15/2022     3210\n",
       "9/1/2022      1789\n",
       "10/12/2022    4567\n",
       "11/5/2022     9876\n",
       "dtype: int64"
      ]
     },
     "execution_count": 11,
     "metadata": {},
     "output_type": "execute_result"
    }
   ],
   "source": [
    "start_date_deposit.head()"
   ]
  },
  {
   "cell_type": "code",
   "execution_count": 12,
   "id": "4c59ef17",
   "metadata": {},
   "outputs": [
    {
     "data": {
      "text/plain": [
       "5/7/2023     7890\n",
       "6/18/2023    3456\n",
       "7/1/2023     9012\n",
       "8/14/2023    6789\n",
       "9/30/2023    3210\n",
       "dtype: int64"
      ]
     },
     "execution_count": 12,
     "metadata": {},
     "output_type": "execute_result"
    }
   ],
   "source": [
    "start_date_deposit.tail()"
   ]
  },
  {
   "cell_type": "code",
   "execution_count": 15,
   "id": "bb30064e",
   "metadata": {},
   "outputs": [
    {
     "data": {
      "text/plain": [
       "7/4/2022      2456\n",
       "8/15/2022     3210\n",
       "9/1/2022      1789\n",
       "10/12/2022    4567\n",
       "dtype: int64"
      ]
     },
     "execution_count": 15,
     "metadata": {},
     "output_type": "execute_result"
    }
   ],
   "source": [
    "start_date_deposit.head(4)"
   ]
  },
  {
   "cell_type": "code",
   "execution_count": 16,
   "id": "4ad60dfc",
   "metadata": {},
   "outputs": [
    {
     "data": {
      "text/plain": [
       "7/1/2023     9012\n",
       "8/14/2023    6789\n",
       "9/30/2023    3210\n",
       "dtype: int64"
      ]
     },
     "execution_count": 16,
     "metadata": {},
     "output_type": "execute_result"
    }
   ],
   "source": [
    "start_date_deposit.tail(3)"
   ]
  },
  {
   "cell_type": "code",
   "execution_count": 20,
   "id": "82fce1c0",
   "metadata": {},
   "outputs": [
    {
     "data": {
      "text/plain": [
       "9012"
      ]
     },
     "execution_count": 20,
     "metadata": {},
     "output_type": "execute_result"
    }
   ],
   "source": [
    "start_date_deposit[start_date_deposit.tail(n=6).idxmax()]"
   ]
  },
  {
   "cell_type": "code",
   "execution_count": null,
   "id": "10b13c7a",
   "metadata": {},
   "outputs": [],
   "source": []
  }
 ],
 "metadata": {
  "kernelspec": {
   "display_name": "Python 3 (ipykernel)",
   "language": "python",
   "name": "python3"
  },
  "language_info": {
   "codemirror_mode": {
    "name": "ipython",
    "version": 3
   },
   "file_extension": ".py",
   "mimetype": "text/x-python",
   "name": "python",
   "nbconvert_exporter": "python",
   "pygments_lexer": "ipython3",
   "version": "3.11.5"
  }
 },
 "nbformat": 4,
 "nbformat_minor": 5
}
