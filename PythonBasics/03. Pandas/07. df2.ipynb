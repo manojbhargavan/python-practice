{
 "cells": [
  {
   "cell_type": "code",
   "execution_count": 8,
   "id": "2ee6a611",
   "metadata": {},
   "outputs": [],
   "source": [
    "import pandas as pd\n",
    "import numpy as np"
   ]
  },
  {
   "cell_type": "code",
   "execution_count": 9,
   "id": "25d3ae1a",
   "metadata": {},
   "outputs": [],
   "source": [
    "product_prices_dict = {'T-shirt': 1000, 'Jeans': 345, 'Sneakers': 500, 'Laptop': 700, 'Smartphone': 250, 'Headphones': 800, 'Watch': 150, 'Backpack': 450, 'Camera': 600, 'Tablet': 900, 'Sunglasses': 200, 'Jacket': 350, 'Dress': 550, 'TV': 750, 'Gaming Console': 950, 'Printer': 400, 'Speaker': 300, 'Fitness Tracker': 850, 'Desktop Computer': 1500, 'Coffee Maker': 1200, 'Vacuum Cleaner': 1100, 'Microwave Oven': 1300, 'Blender': 1600, 'Toaster': 1700, 'Hair Dryer': 1800}"
   ]
  },
  {
   "cell_type": "code",
   "execution_count": 11,
   "id": "a67352b0",
   "metadata": {},
   "outputs": [],
   "source": [
    "product_prices = pd.Series(product_prices_dict)"
   ]
  },
  {
   "cell_type": "code",
   "execution_count": 14,
   "id": "ca950681",
   "metadata": {},
   "outputs": [
    {
     "data": {
      "text/plain": [
       "array([1000,  345,  500,  700,  250,  800,  150,  450,  600,  900,  200,\n",
       "        350,  550,  750,  950,  400,  300,  850, 1500, 1200, 1100, 1300,\n",
       "       1600, 1700, 1800])"
      ]
     },
     "execution_count": 14,
     "metadata": {},
     "output_type": "execute_result"
    }
   ],
   "source": [
    "product_prices.values"
   ]
  },
  {
   "cell_type": "code",
   "execution_count": 15,
   "id": "97049b62",
   "metadata": {},
   "outputs": [
    {
     "data": {
      "text/plain": [
       "<PandasArray>\n",
       "[1000,  345,  500,  700,  250,  800,  150,  450,  600,  900,  200,  350,  550,\n",
       "  750,  950,  400,  300,  850, 1500, 1200, 1100, 1300, 1600, 1700, 1800]\n",
       "Length: 25, dtype: int64"
      ]
     },
     "execution_count": 15,
     "metadata": {},
     "output_type": "execute_result"
    }
   ],
   "source": [
    "product_prices.array"
   ]
  },
  {
   "cell_type": "code",
   "execution_count": 17,
   "id": "41adf51e",
   "metadata": {},
   "outputs": [
    {
     "data": {
      "text/plain": [
       "array([1000.,  345.,  500.,  700.,  250.,  800.,  150.,  450.,  600.,\n",
       "        900.,  200.,  350.,  550.,  750.,  950.,  400.,  300.,  850.,\n",
       "       1500., 1200., 1100., 1300., 1600., 1700., 1800.])"
      ]
     },
     "execution_count": 17,
     "metadata": {},
     "output_type": "execute_result"
    }
   ],
   "source": [
    "product_prices.to_numpy(dtype='float')"
   ]
  },
  {
   "cell_type": "code",
   "execution_count": 19,
   "id": "878446af",
   "metadata": {},
   "outputs": [
    {
     "data": {
      "text/plain": [
       "Backpack             450\n",
       "Blender             1600\n",
       "Camera               600\n",
       "Coffee Maker        1200\n",
       "Desktop Computer    1500\n",
       "Dress                550\n",
       "Fitness Tracker      850\n",
       "Gaming Console       950\n",
       "Hair Dryer          1800\n",
       "Headphones           800\n",
       "Jacket               350\n",
       "Jeans                345\n",
       "Laptop               700\n",
       "Microwave Oven      1300\n",
       "Printer              400\n",
       "Smartphone           250\n",
       "Sneakers             500\n",
       "Speaker              300\n",
       "Sunglasses           200\n",
       "T-shirt             1000\n",
       "TV                   750\n",
       "Tablet               900\n",
       "Toaster             1700\n",
       "Vacuum Cleaner      1100\n",
       "Watch                150\n",
       "dtype: int64"
      ]
     },
     "execution_count": 19,
     "metadata": {},
     "output_type": "execute_result"
    }
   ],
   "source": [
    "product_prices.sort_index()"
   ]
  },
  {
   "cell_type": "code",
   "execution_count": 20,
   "id": "8d7ab6e5",
   "metadata": {},
   "outputs": [
    {
     "data": {
      "text/plain": [
       "Watch                150\n",
       "Sunglasses           200\n",
       "Smartphone           250\n",
       "Speaker              300\n",
       "Jeans                345\n",
       "Jacket               350\n",
       "Printer              400\n",
       "Backpack             450\n",
       "Sneakers             500\n",
       "Dress                550\n",
       "Camera               600\n",
       "Laptop               700\n",
       "TV                   750\n",
       "Headphones           800\n",
       "Fitness Tracker      850\n",
       "Tablet               900\n",
       "Gaming Console       950\n",
       "T-shirt             1000\n",
       "Vacuum Cleaner      1100\n",
       "Coffee Maker        1200\n",
       "Microwave Oven      1300\n",
       "Desktop Computer    1500\n",
       "Blender             1600\n",
       "Toaster             1700\n",
       "Hair Dryer          1800\n",
       "dtype: int64"
      ]
     },
     "execution_count": 20,
     "metadata": {},
     "output_type": "execute_result"
    }
   ],
   "source": [
    "product_prices.sort_values()"
   ]
  },
  {
   "cell_type": "code",
   "execution_count": 21,
   "id": "22b7b380",
   "metadata": {},
   "outputs": [
    {
     "data": {
      "text/plain": [
       "Hair Dryer          1800\n",
       "Toaster             1700\n",
       "Blender             1600\n",
       "Desktop Computer    1500\n",
       "Microwave Oven      1300\n",
       "Coffee Maker        1200\n",
       "Vacuum Cleaner      1100\n",
       "T-shirt             1000\n",
       "Gaming Console       950\n",
       "Tablet               900\n",
       "Fitness Tracker      850\n",
       "Headphones           800\n",
       "TV                   750\n",
       "Laptop               700\n",
       "Camera               600\n",
       "Dress                550\n",
       "Sneakers             500\n",
       "Backpack             450\n",
       "Printer              400\n",
       "Jacket               350\n",
       "Jeans                345\n",
       "Speaker              300\n",
       "Smartphone           250\n",
       "Sunglasses           200\n",
       "Watch                150\n",
       "dtype: int64"
      ]
     },
     "execution_count": 21,
     "metadata": {},
     "output_type": "execute_result"
    }
   ],
   "source": [
    "product_prices.sort_values(ascending=False)"
   ]
  },
  {
   "cell_type": "code",
   "execution_count": 22,
   "id": "14a58e16",
   "metadata": {},
   "outputs": [],
   "source": [
    "locations_df = pd.read_csv('./Location.csv')"
   ]
  },
  {
   "cell_type": "code",
   "execution_count": 23,
   "id": "d1097bb4",
   "metadata": {},
   "outputs": [],
   "source": [
    "locations = locations_df.squeeze('columns')"
   ]
  },
  {
   "cell_type": "code",
   "execution_count": 24,
   "id": "69b3f03a",
   "metadata": {},
   "outputs": [
    {
     "data": {
      "text/plain": [
       "0            Lusaka\n",
       "1             Kitwe\n",
       "2             Ndola\n",
       "3             Kabwe\n",
       "4          Chingola\n",
       "           ...     \n",
       "1129    La Rochelle\n",
       "1130         Amiens\n",
       "1131        Limoges\n",
       "1132       Biarritz\n",
       "1133          Nancy\n",
       "Name: Location, Length: 1134, dtype: object"
      ]
     },
     "execution_count": 24,
     "metadata": {},
     "output_type": "execute_result"
    }
   ],
   "source": [
    "locations"
   ]
  },
  {
   "cell_type": "code",
   "execution_count": 25,
   "id": "bc677c12",
   "metadata": {},
   "outputs": [
    {
     "data": {
      "text/plain": [
       "1083    Abu Dhabi\n",
       "346     Abu Dhabi\n",
       "960     Abu Dhabi\n",
       "591     Abu Dhabi\n",
       "837     Abu Dhabi\n",
       "          ...    \n",
       "921        Zurich\n",
       "307        Zurich\n",
       "429        Zurich\n",
       "675        Zurich\n",
       "1044       Zurich\n",
       "Name: Location, Length: 1134, dtype: object"
      ]
     },
     "execution_count": 25,
     "metadata": {},
     "output_type": "execute_result"
    }
   ],
   "source": [
    "locations.sort_values()"
   ]
  },
  {
   "cell_type": "code",
   "execution_count": 26,
   "id": "5f669c80",
   "metadata": {},
   "outputs": [
    {
     "data": {
      "text/plain": [
       "0            Lusaka\n",
       "1             Kitwe\n",
       "2             Ndola\n",
       "3             Kabwe\n",
       "4          Chingola\n",
       "           ...     \n",
       "1129    La Rochelle\n",
       "1130         Amiens\n",
       "1131        Limoges\n",
       "1132       Biarritz\n",
       "1133          Nancy\n",
       "Name: Location, Length: 1134, dtype: object"
      ]
     },
     "execution_count": 26,
     "metadata": {},
     "output_type": "execute_result"
    }
   ],
   "source": [
    "locations.sort_index()"
   ]
  },
  {
   "cell_type": "code",
   "execution_count": 31,
   "id": "c7115897",
   "metadata": {},
   "outputs": [
    {
     "data": {
      "text/plain": [
       "429     Zurich\n",
       "921     Zurich\n",
       "1044    Zurich\n",
       "552     Zurich\n",
       "307     Zurich\n",
       "Name: Location, dtype: object"
      ]
     },
     "execution_count": 31,
     "metadata": {},
     "output_type": "execute_result"
    }
   ],
   "source": [
    "locations.sort_values(ascending=False).head()"
   ]
  },
  {
   "cell_type": "code",
   "execution_count": null,
   "id": "7914d1b1",
   "metadata": {},
   "outputs": [],
   "source": []
  }
 ],
 "metadata": {
  "kernelspec": {
   "display_name": "Python 3 (ipykernel)",
   "language": "python",
   "name": "python3"
  },
  "language_info": {
   "codemirror_mode": {
    "name": "ipython",
    "version": 3
   },
   "file_extension": ".py",
   "mimetype": "text/x-python",
   "name": "python",
   "nbconvert_exporter": "python",
   "pygments_lexer": "ipython3",
   "version": "3.11.5"
  }
 },
 "nbformat": 4,
 "nbformat_minor": 5
}
