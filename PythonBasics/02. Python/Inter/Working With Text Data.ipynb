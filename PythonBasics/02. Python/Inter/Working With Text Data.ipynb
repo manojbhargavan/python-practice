{
 "cells": [
  {
   "cell_type": "code",
   "execution_count": 2,
   "id": "d1daa7f4",
   "metadata": {},
   "outputs": [
    {
     "name": "stdout",
     "output_type": "stream",
     "text": [
      "This is a \"Ball\".\n",
      "This is a \"Ball\".\n"
     ]
    }
   ],
   "source": [
    "product = 'Ball'\n",
    "print('This is a \"%s\".' % product)\n",
    "print(f'This is a \"{product}\".')"
   ]
  },
  {
   "cell_type": "code",
   "execution_count": 3,
   "id": "eecd14c2",
   "metadata": {},
   "outputs": [
    {
     "name": "stdout",
     "output_type": "stream",
     "text": [
      "We have 1000 units.\n"
     ]
    }
   ],
   "source": [
    "qtys = [1000, 5.75]\n",
    "print('We have %d units.' % qtys[0])"
   ]
  },
  {
   "cell_type": "code",
   "execution_count": 6,
   "id": "5a38fc52",
   "metadata": {},
   "outputs": [
    {
     "name": "stdout",
     "output_type": "stream",
     "text": [
      "We have 5.75 units.\n"
     ]
    }
   ],
   "source": [
    "print('We have %.2f units.' % qtys[1])"
   ]
  },
  {
   "cell_type": "code",
   "execution_count": 33,
   "id": "9ebde00f",
   "metadata": {},
   "outputs": [
    {
     "name": "stdout",
     "output_type": "stream",
     "text": [
      "The product Ball is priced at $5.75 and we have 1000 in stock\n"
     ]
    }
   ],
   "source": [
    "print('The product %s is priced at $%.2f and we have %d in stock' % (product, qtys[1], qtys[0]))"
   ]
  },
  {
   "cell_type": "code",
   "execution_count": 39,
   "id": "32d08e9f",
   "metadata": {},
   "outputs": [],
   "source": [
    "s3 = 'Mr. manoj Bhargavan'"
   ]
  },
  {
   "cell_type": "code",
   "execution_count": 40,
   "id": "d6783e73",
   "metadata": {},
   "outputs": [
    {
     "data": {
      "text/plain": [
       "'MR. MANOJ BHARGAVAN'"
      ]
     },
     "execution_count": 40,
     "metadata": {},
     "output_type": "execute_result"
    }
   ],
   "source": [
    "s3.upper()"
   ]
  },
  {
   "cell_type": "code",
   "execution_count": 41,
   "id": "ca1410ea",
   "metadata": {},
   "outputs": [
    {
     "data": {
      "text/plain": [
       "'mr. manoj bhargavan'"
      ]
     },
     "execution_count": 41,
     "metadata": {},
     "output_type": "execute_result"
    }
   ],
   "source": [
    "s3.lower()"
   ]
  },
  {
   "cell_type": "code",
   "execution_count": 42,
   "id": "16b44eb3",
   "metadata": {},
   "outputs": [
    {
     "data": {
      "text/plain": [
       "'Mr. manoj bhargavan'"
      ]
     },
     "execution_count": 42,
     "metadata": {},
     "output_type": "execute_result"
    }
   ],
   "source": [
    "s3.capitalize()"
   ]
  },
  {
   "cell_type": "code",
   "execution_count": 43,
   "id": "87986c91",
   "metadata": {},
   "outputs": [
    {
     "data": {
      "text/plain": [
       "'Mr. Manoj Bhargavan'"
      ]
     },
     "execution_count": 43,
     "metadata": {},
     "output_type": "execute_result"
    }
   ],
   "source": [
    "s3.title()"
   ]
  },
  {
   "cell_type": "code",
   "execution_count": 44,
   "id": "95a85bfd",
   "metadata": {},
   "outputs": [
    {
     "data": {
      "text/plain": [
       "'Cost Per Unit'"
      ]
     },
     "execution_count": 44,
     "metadata": {},
     "output_type": "execute_result"
    }
   ],
   "source": [
    "'Cost per unit'.title()"
   ]
  },
  {
   "cell_type": "code",
   "execution_count": 51,
   "id": "ef54f283",
   "metadata": {},
   "outputs": [],
   "source": [
    "s4 = '    qtr earnings report      '"
   ]
  },
  {
   "cell_type": "code",
   "execution_count": 52,
   "id": "6c48b427",
   "metadata": {},
   "outputs": [
    {
     "data": {
      "text/plain": [
       "'qtr earnings report'"
      ]
     },
     "execution_count": 52,
     "metadata": {},
     "output_type": "execute_result"
    }
   ],
   "source": [
    "s4.strip()"
   ]
  },
  {
   "cell_type": "code",
   "execution_count": 53,
   "id": "62acd427",
   "metadata": {},
   "outputs": [
    {
     "data": {
      "text/plain": [
       "'Qtr Earnings Report'"
      ]
     },
     "execution_count": 53,
     "metadata": {},
     "output_type": "execute_result"
    }
   ],
   "source": [
    "s4.strip().title()"
   ]
  },
  {
   "cell_type": "code",
   "execution_count": 59,
   "id": "e73eee04",
   "metadata": {},
   "outputs": [
    {
     "data": {
      "text/plain": [
       "'Quaterly Earnings Repo'"
      ]
     },
     "execution_count": 59,
     "metadata": {},
     "output_type": "execute_result"
    }
   ],
   "source": [
    "('Quaterly ' + s4.strip(' qtr')).title()"
   ]
  },
  {
   "cell_type": "code",
   "execution_count": null,
   "id": "60f1eb85",
   "metadata": {},
   "outputs": [],
   "source": []
  }
 ],
 "metadata": {
  "kernelspec": {
   "display_name": "Python 3 (ipykernel)",
   "language": "python",
   "name": "python3"
  },
  "language_info": {
   "codemirror_mode": {
    "name": "ipython",
    "version": 3
   },
   "file_extension": ".py",
   "mimetype": "text/x-python",
   "name": "python",
   "nbconvert_exporter": "python",
   "pygments_lexer": "ipython3",
   "version": "3.11.5"
  }
 },
 "nbformat": 4,
 "nbformat_minor": 5
}
