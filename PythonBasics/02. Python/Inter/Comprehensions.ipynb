{
 "cells": [
  {
   "cell_type": "code",
   "execution_count": 4,
   "id": "d1533848",
   "metadata": {},
   "outputs": [
    {
     "name": "stdout",
     "output_type": "stream",
     "text": [
      "[2, 26, 8, 10, 126, 200]\n"
     ]
    }
   ],
   "source": [
    "nums = [1, 13, 4, 5, 63, 100]\n",
    "new_list = [x*2 for x in nums]\n",
    "print(new_list)"
   ]
  },
  {
   "cell_type": "code",
   "execution_count": 12,
   "id": "61154b6a",
   "metadata": {},
   "outputs": [],
   "source": [
    "nums_lst = [i+j for i in range(2) for j in range(5)]"
   ]
  },
  {
   "cell_type": "code",
   "execution_count": 13,
   "id": "6190ddb3",
   "metadata": {},
   "outputs": [
    {
     "name": "stdout",
     "output_type": "stream",
     "text": [
      "[0, 1, 2, 3, 4, 1, 2, 3, 4, 5]\n"
     ]
    }
   ],
   "source": [
    "print(nums_lst)"
   ]
  },
  {
   "cell_type": "code",
   "execution_count": 18,
   "id": "0a42d09e",
   "metadata": {},
   "outputs": [],
   "source": [
    "ne_lsts_2 = [[f'i= {i}, j = {j}' for i in range(2)] for j in range(5)]"
   ]
  },
  {
   "cell_type": "code",
   "execution_count": 19,
   "id": "a7a04b38",
   "metadata": {},
   "outputs": [
    {
     "data": {
      "text/plain": [
       "[['i= 0, j = 0', 'i= 1, j = 0'],\n",
       " ['i= 0, j = 1', 'i= 1, j = 1'],\n",
       " ['i= 0, j = 2', 'i= 1, j = 2'],\n",
       " ['i= 0, j = 3', 'i= 1, j = 3'],\n",
       " ['i= 0, j = 4', 'i= 1, j = 4']]"
      ]
     },
     "execution_count": 19,
     "metadata": {},
     "output_type": "execute_result"
    }
   ],
   "source": [
    "ne_lsts_2"
   ]
  },
  {
   "cell_type": "code",
   "execution_count": 20,
   "id": "5dc72a7d",
   "metadata": {},
   "outputs": [],
   "source": [
    "power_3_odd = [i ** 3 for i in range(1, 11) if i % 2 == 1]"
   ]
  },
  {
   "cell_type": "code",
   "execution_count": 21,
   "id": "bd34adae",
   "metadata": {},
   "outputs": [
    {
     "data": {
      "text/plain": [
       "[1, 27, 125, 343, 729]"
      ]
     },
     "execution_count": 21,
     "metadata": {},
     "output_type": "execute_result"
    }
   ],
   "source": [
    "power_3_odd"
   ]
  },
  {
   "cell_type": "code",
   "execution_count": 23,
   "id": "376bc19f",
   "metadata": {},
   "outputs": [
    {
     "data": {
      "text/plain": [
       "[1, 'even', 27, 'even', 125, 'even', 343, 'even', 729, 'even']"
      ]
     },
     "execution_count": 23,
     "metadata": {},
     "output_type": "execute_result"
    }
   ],
   "source": [
    "[i ** 3 if i % 2 == 1 else \"even\" for i in range(1, 11)]"
   ]
  },
  {
   "cell_type": "code",
   "execution_count": 29,
   "id": "5252eef9",
   "metadata": {},
   "outputs": [
    {
     "name": "stdout",
     "output_type": "stream",
     "text": [
      "[[1, 1.0], [4, 2.0], [9, 3.0], [16, 4.0], [25, 5.0], [36, 6.0], [49, 7.0], [64, 8.0], [81, 9.0], [100, 10.0], [121, 11.0], [144, 12.0], [169, 13.0], [196, 14.0], [225, 15.0], [256, 16.0], [289, 17.0], [324, 18.0], [361, 19.0], [400, 20.0], [441, 21.0], [484, 22.0], [529, 23.0], [576, 24.0], [625, 25.0], [676, 26.0], [729, 27.0], [784, 28.0], [841, 29.0], [900, 30.0], [961, 31.0], [1024, 32.0], [1089, 33.0], [1156, 34.0], [1225, 35.0], [1296, 36.0], [1369, 37.0], [1444, 38.0], [1521, 39.0], [1600, 40.0], [1681, 41.0], [1764, 42.0], [1849, 43.0], [1936, 44.0], [2025, 45.0], [2116, 46.0], [2209, 47.0], [2304, 48.0], [2401, 49.0], [2500, 50.0], [2601, 51.0], [2704, 52.0], [2809, 53.0], [2916, 54.0], [3025, 55.0], [3136, 56.0], [3249, 57.0], [3364, 58.0], [3481, 59.0], [3600, 60.0], [3721, 61.0], [3844, 62.0], [3969, 63.0], [4096, 64.0], [4225, 65.0]]\n"
     ]
    }
   ],
   "source": [
    "import math, random\n",
    "result = [ [x, math.sqrt(x)] for x in range(1, random.randint(1, 10000)) if int(math.sqrt(x)) == math.sqrt(x)]\n",
    "print(result)"
   ]
  },
  {
   "cell_type": "code",
   "execution_count": null,
   "id": "dde37a3e",
   "metadata": {},
   "outputs": [],
   "source": []
  }
 ],
 "metadata": {
  "kernelspec": {
   "display_name": "Python 3 (ipykernel)",
   "language": "python",
   "name": "python3"
  },
  "language_info": {
   "codemirror_mode": {
    "name": "ipython",
    "version": 3
   },
   "file_extension": ".py",
   "mimetype": "text/x-python",
   "name": "python",
   "nbconvert_exporter": "python",
   "pygments_lexer": "ipython3",
   "version": "3.11.5"
  }
 },
 "nbformat": 4,
 "nbformat_minor": 5
}
