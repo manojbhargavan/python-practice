{
 "cells": [
  {
   "cell_type": "code",
   "execution_count": 8,
   "id": "bf18387e",
   "metadata": {},
   "outputs": [],
   "source": [
    "cube = lambda x : x ** 3"
   ]
  },
  {
   "cell_type": "code",
   "execution_count": 9,
   "id": "bccdd6ed",
   "metadata": {},
   "outputs": [
    {
     "data": {
      "text/plain": [
       "64"
      ]
     },
     "execution_count": 9,
     "metadata": {},
     "output_type": "execute_result"
    }
   ],
   "source": [
    "cube(4)"
   ]
  },
  {
   "cell_type": "code",
   "execution_count": 11,
   "id": "56062fb2",
   "metadata": {},
   "outputs": [
    {
     "data": {
      "text/plain": [
       "50"
      ]
     },
     "execution_count": 11,
     "metadata": {},
     "output_type": "execute_result"
    }
   ],
   "source": [
    "(lambda x: int(x/2))(100)"
   ]
  },
  {
   "cell_type": "code",
   "execution_count": 14,
   "id": "af39ff58",
   "metadata": {},
   "outputs": [
    {
     "data": {
      "text/plain": [
       "31416"
      ]
     },
     "execution_count": 14,
     "metadata": {},
     "output_type": "execute_result"
    }
   ],
   "source": [
    "(lambda x: math.ceil(math.pi * x ** 2))(100)"
   ]
  },
  {
   "cell_type": "code",
   "execution_count": 15,
   "id": "8fa401f3",
   "metadata": {},
   "outputs": [
    {
     "data": {
      "text/plain": [
       "30"
      ]
     },
     "execution_count": 15,
     "metadata": {},
     "output_type": "execute_result"
    }
   ],
   "source": [
    "(lambda x,y: x + y)(10, 20)"
   ]
  },
  {
   "cell_type": "code",
   "execution_count": 16,
   "id": "57a5c33f",
   "metadata": {},
   "outputs": [
    {
     "data": {
      "text/plain": [
       "110.0"
      ]
     },
     "execution_count": 16,
     "metadata": {},
     "output_type": "execute_result"
    }
   ],
   "source": [
    "square_root = lambda x: math.sqrt(x)\n",
    "x_plus_xpow2 = lambda x: x + square_root(x)\n",
    "x_plus_xpow2(100)"
   ]
  },
  {
   "cell_type": "code",
   "execution_count": 18,
   "id": "13bd9584",
   "metadata": {},
   "outputs": [
    {
     "data": {
      "text/plain": [
       "110.0"
      ]
     },
     "execution_count": 18,
     "metadata": {},
     "output_type": "execute_result"
    }
   ],
   "source": [
    "x_plus_xpow2 = lambda x, y: x + y(x)\n",
    "x_plus_xpow2(100, lambda x: math.sqrt(x))"
   ]
  },
  {
   "cell_type": "code",
   "execution_count": null,
   "id": "a79b2c22",
   "metadata": {},
   "outputs": [],
   "source": []
  }
 ],
 "metadata": {
  "kernelspec": {
   "display_name": "Python 3 (ipykernel)",
   "language": "python",
   "name": "python3"
  },
  "language_info": {
   "codemirror_mode": {
    "name": "ipython",
    "version": 3
   },
   "file_extension": ".py",
   "mimetype": "text/x-python",
   "name": "python",
   "nbconvert_exporter": "python",
   "pygments_lexer": "ipython3",
   "version": "3.11.5"
  }
 },
 "nbformat": 4,
 "nbformat_minor": 5
}
