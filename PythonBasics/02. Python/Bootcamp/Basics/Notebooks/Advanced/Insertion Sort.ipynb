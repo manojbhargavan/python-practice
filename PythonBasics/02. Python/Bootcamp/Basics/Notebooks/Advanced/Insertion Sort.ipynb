{
 "cells": [
  {
   "cell_type": "code",
   "execution_count": 15,
   "id": "62611c01",
   "metadata": {},
   "outputs": [],
   "source": [
    "def insertion_sort(list_to_sort: list) -> list:\n",
    "    for i in range(1, len(list_to_sort)):\n",
    "        if list_to_sort[i-1] > list_to_sort[i]:\n",
    "            (list_to_sort[i-1], list_to_sort[i]) = (list_to_sort[i], list_to_sort[i-1])\n",
    "            j = i-1\n",
    "            while j > 0:\n",
    "                if list_to_sort[j-1] > list_to_sort[j]:\n",
    "                    (list_to_sort[j-1], list_to_sort[j]) = (list_to_sort[j], list_to_sort[j-1])\n",
    "                j -= 1\n",
    "        \n",
    "    return list_to_sort"
   ]
  },
  {
   "cell_type": "code",
   "execution_count": 16,
   "id": "3f6ba615",
   "metadata": {},
   "outputs": [
    {
     "data": {
      "text/plain": [
       "[2, 3, 5, 6, 8, 9, 24, 45, 70, 86, 87, 100]"
      ]
     },
     "execution_count": 16,
     "metadata": {},
     "output_type": "execute_result"
    }
   ],
   "source": [
    "test = [9,6,5,8,2,3,45,87,24,70,100,86]\n",
    "insertion_sort(test)"
   ]
  },
  {
   "cell_type": "code",
   "execution_count": 17,
   "id": "989dfc99",
   "metadata": {},
   "outputs": [
    {
     "data": {
      "text/plain": [
       "[2, 3, 5, 6, 8, 24, 45, 70, 87]"
      ]
     },
     "execution_count": 17,
     "metadata": {},
     "output_type": "execute_result"
    }
   ],
   "source": [
    "test_2 = [70,24,87,45,6,3,2,8,5]\n",
    "insertion_sort(test_2)"
   ]
  },
  {
   "cell_type": "code",
   "execution_count": null,
   "id": "305cf3d9",
   "metadata": {},
   "outputs": [],
   "source": []
  }
 ],
 "metadata": {
  "kernelspec": {
   "display_name": "Python 3 (ipykernel)",
   "language": "python",
   "name": "python3"
  },
  "language_info": {
   "codemirror_mode": {
    "name": "ipython",
    "version": 3
   },
   "file_extension": ".py",
   "mimetype": "text/x-python",
   "name": "python",
   "nbconvert_exporter": "python",
   "pygments_lexer": "ipython3",
   "version": "3.11.5"
  }
 },
 "nbformat": 4,
 "nbformat_minor": 5
}
