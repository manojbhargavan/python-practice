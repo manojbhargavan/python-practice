{
 "cells": [
  {
   "cell_type": "code",
   "execution_count": 1,
   "id": "5e2d6e40",
   "metadata": {},
   "outputs": [],
   "source": [
    "class Stack:\n",
    "    \n",
    "    def __init__(self):\n",
    "        self.stack_lst = []\n",
    "        \n",
    "    def is_empty(self):\n",
    "        return not len(self.stack_lst) > 0        \n",
    "        \n",
    "    def push(self, item):\n",
    "        self.stack_lst.append(item)\n",
    "        \n",
    "    def pop(self):\n",
    "        return self.stack_lst.pop()        \n",
    "            \n",
    "    def peek(self):\n",
    "        if len(self.stack_lst) > 0:\n",
    "            item = self.stack_lst[len(self.stack_lst)-1]\n",
    "            return item\n",
    "        else:\n",
    "            return None \n",
    "    \n",
    "    def show_stack(self):\n",
    "        print(self.stack_lst)\n",
    "    \n",
    "    def __str__(self):\n",
    "        result = \"\"\n",
    "        for item in self.stack_lst:\n",
    "            result += item\n",
    "        \n",
    "        return result"
   ]
  },
  {
   "cell_type": "code",
   "execution_count": 2,
   "id": "624f713e",
   "metadata": {},
   "outputs": [],
   "source": [
    "def expected_closing(c):\n",
    "    if c == '{':\n",
    "        return '}'\n",
    "    elif c == '[':\n",
    "        return ']'\n",
    "    elif c == '(':\n",
    "        return ')'\n",
    "    else:\n",
    "        return None        "
   ]
  },
  {
   "cell_type": "code",
   "execution_count": 3,
   "id": "afbbb8ae",
   "metadata": {},
   "outputs": [],
   "source": [
    "def is_closing(c):\n",
    "    return c == '}' or c == ']' or c == ')'"
   ]
  },
  {
   "cell_type": "code",
   "execution_count": 4,
   "id": "e49ec59a",
   "metadata": {},
   "outputs": [],
   "source": [
    "def is_opening(c):\n",
    "    return c == '{' or c == '[' or c == '('"
   ]
  },
  {
   "cell_type": "code",
   "execution_count": 5,
   "id": "06959441",
   "metadata": {},
   "outputs": [],
   "source": [
    "def expected_opening(c):\n",
    "    if c == '}':\n",
    "        return '{'\n",
    "    elif c == ']':\n",
    "        return '['\n",
    "    elif c == ')':\n",
    "        return '('\n",
    "    else:\n",
    "        return None  "
   ]
  },
  {
   "cell_type": "code",
   "execution_count": 6,
   "id": "1d264963",
   "metadata": {},
   "outputs": [],
   "source": [
    "def balanced_brackets(input_str):\n",
    "    stack = Stack()\n",
    "    for c in input_str:\n",
    "        if stack.is_empty():\n",
    "            stack.push(c)\n",
    "        else:\n",
    "            stack_top = stack.peek()            \n",
    "            if expected_closing(stack_top) == c:\n",
    "                stack.pop()\n",
    "            elif is_closing(c):\n",
    "                print(f\"Cannot find a matching closing for {stack_top}. Expected '{expected_closing(stack_top)}', found '{c}'.\")\n",
    "                stack.show_stack()\n",
    "                break\n",
    "            elif is_opening(c):\n",
    "                stack.push(c)\n",
    "            else:\n",
    "                print(f'Only {{}} [] () supported found \"{c}\", cannot check if its balanced string')\n",
    "                stack.pop()\n",
    "                break\n",
    "    \n",
    "    if stack.is_empty():\n",
    "        print(f\"Balanced string\")\n",
    "    else:\n",
    "        print(f\"Not Balanced. No closing(s) or opening(s) found for {stack}.\")"
   ]
  },
  {
   "cell_type": "code",
   "execution_count": 7,
   "id": "b9aa369e",
   "metadata": {},
   "outputs": [
    {
     "name": "stdout",
     "output_type": "stream",
     "text": [
      "Balanced string\n"
     ]
    }
   ],
   "source": [
    "balanced_brackets('[{[()]}]')"
   ]
  },
  {
   "cell_type": "code",
   "execution_count": 8,
   "id": "fd35f9f9",
   "metadata": {},
   "outputs": [
    {
     "name": "stdout",
     "output_type": "stream",
     "text": [
      "Not Balanced. No closing(s) or opening(s) found for {.\n"
     ]
    }
   ],
   "source": [
    "balanced_brackets('[{[()]}]{')"
   ]
  },
  {
   "cell_type": "code",
   "execution_count": 9,
   "id": "9d249b1c",
   "metadata": {},
   "outputs": [
    {
     "name": "stdout",
     "output_type": "stream",
     "text": [
      "Cannot find a matching closing for [. Expected ']', found '}'.\n",
      "['(', '{', '[']\n",
      "Not Balanced. No closing(s) or opening(s) found for ({[.\n"
     ]
    }
   ],
   "source": [
    "balanced_brackets('({[}])')"
   ]
  },
  {
   "cell_type": "code",
   "execution_count": 10,
   "id": "a991e011",
   "metadata": {},
   "outputs": [
    {
     "name": "stdout",
     "output_type": "stream",
     "text": [
      "Only {} [] () supported found \".\", cannot check if its balanced string\n",
      "Not Balanced. No closing(s) or opening(s) found for ({.\n"
     ]
    }
   ],
   "source": [
    "balanced_brackets('({[.}])')"
   ]
  },
  {
   "cell_type": "code",
   "execution_count": 11,
   "id": "14551e72",
   "metadata": {},
   "outputs": [
    {
     "name": "stdout",
     "output_type": "stream",
     "text": [
      "Cannot find a matching closing for {. Expected '}', found ')'.\n",
      "['[', '(', '{']\n",
      "Not Balanced. No closing(s) or opening(s) found for [({.\n"
     ]
    }
   ],
   "source": [
    "balanced_brackets('[({)})]')"
   ]
  },
  {
   "cell_type": "code",
   "execution_count": null,
   "id": "f71e7e70",
   "metadata": {},
   "outputs": [],
   "source": []
  }
 ],
 "metadata": {
  "kernelspec": {
   "display_name": "Python 3 (ipykernel)",
   "language": "python",
   "name": "python3"
  },
  "language_info": {
   "codemirror_mode": {
    "name": "ipython",
    "version": 3
   },
   "file_extension": ".py",
   "mimetype": "text/x-python",
   "name": "python",
   "nbconvert_exporter": "python",
   "pygments_lexer": "ipython3",
   "version": "3.11.5"
  }
 },
 "nbformat": 4,
 "nbformat_minor": 5
}
