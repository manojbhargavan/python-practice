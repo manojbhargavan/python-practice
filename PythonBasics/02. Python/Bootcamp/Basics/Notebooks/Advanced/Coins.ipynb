{
 "cells": [
  {
   "cell_type": "code",
   "execution_count": 1,
   "id": "23a04038",
   "metadata": {},
   "outputs": [],
   "source": [
    "def coins_flips(coin_list):\n",
    "    current_turn = 2\n",
    "    while current_turn < len(coin_list):\n",
    "        for index, item in enumerate(coin_list):\n",
    "            if index % current_turn == 0:\n",
    "                if coin_list[index] == 0:\n",
    "                    coin_list[index] = 1\n",
    "                else:\n",
    "                    coin_list[index] = 0\n",
    "        current_turn += 1\n",
    "    \n",
    "    heads_list = []\n",
    "    for index, item in enumerate(coin_list):\n",
    "        if item == 0:\n",
    "            heads_list.append(index)\n",
    "    \n",
    "    return heads_list"
   ]
  },
  {
   "cell_type": "code",
   "execution_count": 2,
   "id": "db739f0f",
   "metadata": {},
   "outputs": [],
   "source": [
    "n = 1001\n",
    "coins = list([0]*n)"
   ]
  },
  {
   "cell_type": "code",
   "execution_count": 3,
   "id": "a48c8afd",
   "metadata": {},
   "outputs": [
    {
     "name": "stdout",
     "output_type": "stream",
     "text": [
      "[1, 4, 9, 16, 25, 36, 49, 64, 81, 100, 121, 144, 169, 196, 225, 256, 289, 324, 361, 400, 441, 484, 529, 576, 625, 676, 729, 784, 841, 900, 961]\n"
     ]
    }
   ],
   "source": [
    "print(coins_flips(coins))"
   ]
  }
 ],
 "metadata": {
  "kernelspec": {
   "display_name": "Python 3 (ipykernel)",
   "language": "python",
   "name": "python3"
  },
  "language_info": {
   "codemirror_mode": {
    "name": "ipython",
    "version": 3
   },
   "file_extension": ".py",
   "mimetype": "text/x-python",
   "name": "python",
   "nbconvert_exporter": "python",
   "pygments_lexer": "ipython3",
   "version": "3.11.5"
  }
 },
 "nbformat": 4,
 "nbformat_minor": 5
}
