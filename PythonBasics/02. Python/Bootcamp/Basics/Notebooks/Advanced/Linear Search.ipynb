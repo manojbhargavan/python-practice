{
 "cells": [
  {
   "cell_type": "code",
   "execution_count": 1,
   "id": "a33d9e90",
   "metadata": {},
   "outputs": [],
   "source": [
    "def linear_search(item, my_list):\n",
    "    for index, cur_item in enumerate(my_list):\n",
    "        if cur_item == item:\n",
    "            return index\n",
    "        \n",
    "    return -1"
   ]
  },
  {
   "cell_type": "code",
   "execution_count": 2,
   "id": "7b423146",
   "metadata": {},
   "outputs": [],
   "source": [
    "def binary_search(item, my_list: list):\n",
    "    local_list = my_list[:]\n",
    "    local_list.sort()\n",
    "    \n",
    "    while True:\n",
    "        mid_index = len(local_list) // 2\n",
    "        if local_list[mid_index] == item:\n",
    "            return True\n",
    "        elif item > local_list[mid_index]:\n",
    "            local_list = local_list[mid_index:]\n",
    "        else:\n",
    "            local_list = local_list[:mid_index]\n",
    "        \n",
    "        if len(local_list) == 1 and local_list[0] == item:\n",
    "            return True\n",
    "        elif len(local_list) == 1 and local_list[0] != item:\n",
    "            return False            "
   ]
  },
  {
   "cell_type": "code",
   "execution_count": 3,
   "id": "e14971ea",
   "metadata": {},
   "outputs": [
    {
     "name": "stdout",
     "output_type": "stream",
     "text": [
      "6\n",
      "-1\n"
     ]
    }
   ],
   "source": [
    "test = [6,5,8,2,3,45,87,24,70]\n",
    "print(linear_search(87, test))\n",
    "print(linear_search(88, test))"
   ]
  },
  {
   "cell_type": "code",
   "execution_count": 5,
   "id": "d6ca44d1",
   "metadata": {},
   "outputs": [
    {
     "name": "stdout",
     "output_type": "stream",
     "text": [
      "True\n"
     ]
    }
   ],
   "source": [
    "test = [6,5,8,2,3,45,87,24,70]\n",
    "print(binary_search(87, test))"
   ]
  },
  {
   "cell_type": "code",
   "execution_count": null,
   "id": "a160999a",
   "metadata": {},
   "outputs": [],
   "source": []
  }
 ],
 "metadata": {
  "kernelspec": {
   "display_name": "Python 3 (ipykernel)",
   "language": "python",
   "name": "python3"
  },
  "language_info": {
   "codemirror_mode": {
    "name": "ipython",
    "version": 3
   },
   "file_extension": ".py",
   "mimetype": "text/x-python",
   "name": "python",
   "nbconvert_exporter": "python",
   "pygments_lexer": "ipython3",
   "version": "3.11.5"
  }
 },
 "nbformat": 4,
 "nbformat_minor": 5
}
