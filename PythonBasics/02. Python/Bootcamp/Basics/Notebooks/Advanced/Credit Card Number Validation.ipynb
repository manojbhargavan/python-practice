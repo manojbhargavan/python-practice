{
 "cells": [
  {
   "cell_type": "code",
   "execution_count": 9,
   "id": "4da28a16",
   "metadata": {},
   "outputs": [],
   "source": [
    "def get_digit_sum(num):\n",
    "    sum_num = 0\n",
    "    for c in str(num):\n",
    "        sum_num += int(c)\n",
    "    \n",
    "    return sum_num"
   ]
  },
  {
   "cell_type": "code",
   "execution_count": 12,
   "id": "6e77e76e",
   "metadata": {},
   "outputs": [],
   "source": [
    "def valid_credit_card(num):\n",
    "    sum_odd = 0\n",
    "    sum_even = 0\n",
    "    index = len(num) - 1\n",
    "    odd = True\n",
    "    while index >= 0:\n",
    "        if odd:\n",
    "            sum_odd += int(num[index])\n",
    "        else:\n",
    "            cur_number = int(num[index]) * 2            \n",
    "            sum_even += get_digit_sum(cur_number)\n",
    "        odd = not odd\n",
    "        index -= 1\n",
    "    \n",
    "    total_sum = sum_even + sum_odd\n",
    "    \n",
    "    return total_sum % 10 == 0"
   ]
  },
  {
   "cell_type": "code",
   "execution_count": 13,
   "id": "c8888e3b",
   "metadata": {},
   "outputs": [
    {
     "data": {
      "text/plain": [
       "True"
      ]
     },
     "execution_count": 13,
     "metadata": {},
     "output_type": "execute_result"
    }
   ],
   "source": [
    "valid_credit_card('371449635398431')"
   ]
  },
  {
   "cell_type": "code",
   "execution_count": 19,
   "id": "8c6fcbe2",
   "metadata": {},
   "outputs": [
    {
     "name": "stdout",
     "output_type": "stream",
     "text": [
      "True\n",
      "True\n",
      "True\n",
      "True\n",
      "True\n",
      "True\n",
      "True\n",
      "True\n",
      "True\n",
      "True\n",
      "True\n",
      "True\n",
      "True\n",
      "False\n"
     ]
    }
   ],
   "source": [
    "print(valid_credit_card('371449635398431'))\n",
    "print(valid_credit_card('378734493671000'))\n",
    "print(valid_credit_card('5610591081018250'))\n",
    "print(valid_credit_card('30569309025904'))\n",
    "print(valid_credit_card('38520000023237'))\n",
    "print(valid_credit_card('6011111111111117'))\n",
    "print(valid_credit_card('6011000990139424'))\n",
    "print(valid_credit_card('3530111333300000'))\n",
    "print(valid_credit_card('3566002020360505'))\n",
    "print(valid_credit_card('5555555555554444'))\n",
    "print(valid_credit_card('5105105105105100'))\n",
    "print(valid_credit_card('4111111111111111'))\n",
    "print(valid_credit_card('4012888888881881'))\n",
    "print(valid_credit_card('42222222272222'))"
   ]
  },
  {
   "cell_type": "code",
   "execution_count": 17,
   "id": "8a7c4479",
   "metadata": {},
   "outputs": [],
   "source": [
    "def another_card_valid(number):\n",
    "    num_list = [int(char) for char in number]\n",
    "    num_len = len(num_list)\n",
    "    num_list_rev = num_list[::-1]\n",
    "    double = 0\n",
    "    single = 0\n",
    "    for i in range(0,num_len):\n",
    "        if i%2 != 0:\n",
    "            if 2*num_list_rev[i]>9:\n",
    "                double = double + 2*num_list_rev[i] - 9\n",
    "            else:\n",
    "                double = double + 2 * num_list_rev[i]\n",
    "        else:\n",
    "            single = single + num_list_rev[i]\n",
    "\n",
    "    if (double+single)%10 == 0:\n",
    "        print(f'{number} is a valid credit card number.')\n",
    "    else:\n",
    "        print(f'{number} is not a valid credit card number.')"
   ]
  },
  {
   "cell_type": "code",
   "execution_count": 20,
   "id": "38a4b047",
   "metadata": {},
   "outputs": [
    {
     "name": "stdout",
     "output_type": "stream",
     "text": [
      "371449635398431 is a valid credit card number.\n",
      "378734493671000 is a valid credit card number.\n",
      "5610591081018250 is a valid credit card number.\n",
      "30569309025904 is a valid credit card number.\n",
      "38520000023237 is a valid credit card number.\n",
      "6011111111111117 is a valid credit card number.\n",
      "6011000990139424 is a valid credit card number.\n",
      "3530111333300000 is a valid credit card number.\n",
      "3566002020360505 is a valid credit card number.\n",
      "5555555555554444 is a valid credit card number.\n",
      "5105105105105100 is a valid credit card number.\n",
      "4111111111111111 is a valid credit card number.\n",
      "4012888888881881 is a valid credit card number.\n",
      "42222222227222 is not a valid credit card number.\n"
     ]
    }
   ],
   "source": [
    "another_card_valid('371449635398431')\n",
    "another_card_valid('378734493671000')\n",
    "another_card_valid('5610591081018250')\n",
    "another_card_valid('30569309025904')\n",
    "another_card_valid('38520000023237')\n",
    "another_card_valid('6011111111111117')\n",
    "another_card_valid('6011000990139424')\n",
    "another_card_valid('3530111333300000')\n",
    "another_card_valid('3566002020360505')\n",
    "another_card_valid('5555555555554444')\n",
    "another_card_valid('5105105105105100')\n",
    "another_card_valid('4111111111111111')\n",
    "another_card_valid('4012888888881881')\n",
    "another_card_valid('42222222227222')"
   ]
  },
  {
   "cell_type": "code",
   "execution_count": null,
   "id": "5e9aecb3",
   "metadata": {},
   "outputs": [],
   "source": []
  }
 ],
 "metadata": {
  "kernelspec": {
   "display_name": "Python 3 (ipykernel)",
   "language": "python",
   "name": "python3"
  },
  "language_info": {
   "codemirror_mode": {
    "name": "ipython",
    "version": 3
   },
   "file_extension": ".py",
   "mimetype": "text/x-python",
   "name": "python",
   "nbconvert_exporter": "python",
   "pygments_lexer": "ipython3",
   "version": "3.11.5"
  }
 },
 "nbformat": 4,
 "nbformat_minor": 5
}
