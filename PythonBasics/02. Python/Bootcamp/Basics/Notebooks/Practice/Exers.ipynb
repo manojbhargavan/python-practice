{
 "cells": [
  {
   "cell_type": "markdown",
   "id": "e9f1652f",
   "metadata": {},
   "source": [
    "### Question 1\n",
    "Can you write a short program that will print out the version of Python that you are using?"
   ]
  },
  {
   "cell_type": "code",
   "execution_count": 14,
   "id": "353ccb5f",
   "metadata": {
    "scrolled": true
   },
   "outputs": [
    {
     "name": "stdout",
     "output_type": "stream",
     "text": [
      "b'Python 3.11.5\\r\\n'\n"
     ]
    }
   ],
   "source": [
    "import subprocess as sb\n",
    "output = sb.run([\"C:/ProgramData/anaconda3/python.exe\", \"--version\"], capture_output=True)\n",
    "print(str(output.stdout))"
   ]
  },
  {
   "cell_type": "markdown",
   "id": "59a5cad9",
   "metadata": {},
   "source": [
    "### Question 2\n",
    "Write a program that requests five names separated by commas and create a\n",
    "list containing those names. Print your answer.\n",
    "For example James,Alison,Fred,Sally,Matthew\n",
    "should return ['James','Alison','Fred','Sally','Matthew']"
   ]
  },
  {
   "cell_type": "code",
   "execution_count": 15,
   "id": "3d029baa",
   "metadata": {},
   "outputs": [
    {
     "name": "stdout",
     "output_type": "stream",
     "text": [
      "Provide Names seperated by ,James,Alison,Fred,Sally,Matthew\n",
      "['James', 'Alison', 'Fred', 'Sally', 'Matthew']\n"
     ]
    }
   ],
   "source": [
    "names_in = input('Provide Names seperated by ,')\n",
    "names = names_in.split(',')\n",
    "print(names)"
   ]
  },
  {
   "cell_type": "markdown",
   "id": "234aee43",
   "metadata": {},
   "source": [
    "### Question 3\n",
    "Write a program to determine whether a given number is within 10 of 100 or 200."
   ]
  },
  {
   "cell_type": "code",
   "execution_count": 23,
   "id": "d350a94b",
   "metadata": {},
   "outputs": [
    {
     "name": "stdout",
     "output_type": "stream",
     "text": [
      "Input a Number: 210\n",
      "Number in range\n"
     ]
    }
   ],
   "source": [
    "number_in = int(input('Input a Number: '))\n",
    "\n",
    "if (number_in >= 100 - 10 and number_in <= 100 + 10) or (number_in >= 200 - 10 and number_in <= 200 + 10):\n",
    "    print('Number in range')\n",
    "else:\n",
    "    print('Not in range')"
   ]
  },
  {
   "cell_type": "markdown",
   "id": "dbe3f40f",
   "metadata": {},
   "source": [
    "#### Question 4\n",
    "Write a program that takes a list of non-negative integers and prints each integer\n",
    "to the screen the same number of times as the value of the integer, each new value\n",
    "on a new line. For example\n",
    "[2,3,4,1] would print:\n",
    "22\n",
    "333\n",
    "4444\n",
    "1"
   ]
  },
  {
   "cell_type": "code",
   "execution_count": 29,
   "id": "b48be924",
   "metadata": {},
   "outputs": [
    {
     "name": "stdout",
     "output_type": "stream",
     "text": [
      "Enter list of numbers seperated by , >> 1,2,3,4,5,6,7,8,9\n",
      "1 \n",
      "2 2 \n",
      "3 3 3 \n",
      "4 4 4 4 \n",
      "5 5 5 5 5 \n",
      "6 6 6 6 6 6 \n",
      "7 7 7 7 7 7 7 \n",
      "8 8 8 8 8 8 8 8 \n",
      "9 9 9 9 9 9 9 9 9 \n"
     ]
    }
   ],
   "source": [
    "input_numbers = input(\"Enter list of numbers seperated by , >> \")\n",
    "numbers = input_numbers.split(',')\n",
    "\n",
    "for number in numbers:\n",
    "    for i in range(0, int(number)):\n",
    "        print(number, end = ' ')\n",
    "    print('')"
   ]
  },
  {
   "cell_type": "markdown",
   "id": "4e24272e",
   "metadata": {},
   "source": [
    "#### Question 5\n",
    "Write some code that will return the number of CPUs in the system."
   ]
  },
  {
   "cell_type": "code",
   "execution_count": 32,
   "id": "736eb4e0",
   "metadata": {},
   "outputs": [
    {
     "name": "stdout",
     "output_type": "stream",
     "text": [
      "CPU Count: 12\n",
      "CPU Count: 12\n"
     ]
    }
   ],
   "source": [
    "import multiprocessing as mp\n",
    "import os\n",
    "print(f'CPU Count: {mp.cpu_count()}')\n",
    "print(f'CPU Count: {os.cpu_count()}')"
   ]
  },
  {
   "cell_type": "markdown",
   "id": "8af9bd2d",
   "metadata": {},
   "source": [
    "#### Question 6\n",
    "Write a program that will return the sum of the digits of an integer."
   ]
  },
  {
   "cell_type": "code",
   "execution_count": 34,
   "id": "a169c787",
   "metadata": {},
   "outputs": [
    {
     "name": "stdout",
     "output_type": "stream",
     "text": [
      "Enter the number please >>> 12345\n",
      "Sum: 15\n"
     ]
    }
   ],
   "source": [
    "number = input('Enter the number please >>> ')\n",
    "running_sum = 0\n",
    "for c in number:\n",
    "    running_sum += int(c)\n",
    "\n",
    "print(f'Sum: {running_sum}')"
   ]
  },
  {
   "cell_type": "markdown",
   "id": "da5190bf",
   "metadata": {},
   "source": [
    "#### Question 7\n",
    "Write a program that converts text into pig latin. Pig latin works as follows:\n",
    "All letters before initial vowel are placed at the end of the word and then 'ay'\n",
    "is added (explanation adapted from Wikipedia), so pig becomes igpay, cat becomes\n",
    "atcay, potential becomes otentialpay etc."
   ]
  },
  {
   "cell_type": "code",
   "execution_count": 49,
   "id": "51a6f574",
   "metadata": {},
   "outputs": [
    {
     "name": "stdout",
     "output_type": "stream",
     "text": [
      "Enter a word please >>> potential\n",
      "otentialpay\n"
     ]
    }
   ],
   "source": [
    "import re\n",
    "input_str = input('Enter a word please >>> ')\n",
    "\n",
    "expr = re.compile('[aeiouAEIOU]')\n",
    "expr_result = expr.search(input_str)\n",
    "index = expr_result.start()\n",
    "print(f'{input_str[index:]}{input_str[:index]}ay')"
   ]
  },
  {
   "cell_type": "markdown",
   "id": "6e483e86",
   "metadata": {},
   "source": [
    "##### Question 8\n",
    "Write a function that will check for the occurrence of double letters in\n",
    "a string. If the string contains double letters next to each other it\n",
    "will return True, otherwise it will return False."
   ]
  },
  {
   "cell_type": "code",
   "execution_count": 98,
   "id": "a1ebe64b",
   "metadata": {},
   "outputs": [],
   "source": [
    "import re\n",
    "\n",
    "def check_repeating(input_str, number_of_repetitions):\n",
    "    expr = re.compile(r'([A-Za-z])\\1')\n",
    "    print(expr.pattern)\n",
    "    expr_result = expr.search(input_str)\n",
    "    print(expr_result)\n",
    "    return not expr_result == None"
   ]
  },
  {
   "cell_type": "code",
   "execution_count": 99,
   "id": "c0312ee1",
   "metadata": {},
   "outputs": [
    {
     "name": "stdout",
     "output_type": "stream",
     "text": [
      "([A-Za-z])\\1\n",
      "<re.Match object; span=(1, 3), match='aa'>\n"
     ]
    },
    {
     "data": {
      "text/plain": [
       "True"
      ]
     },
     "execution_count": 99,
     "metadata": {},
     "output_type": "execute_result"
    }
   ],
   "source": [
    "check_repeating('CaaatA', 2)"
   ]
  },
  {
   "cell_type": "markdown",
   "id": "2168aa2d",
   "metadata": {},
   "source": [
    "#### Question 9\n",
    "Write a function that will check if a string is a palindrome."
   ]
  },
  {
   "cell_type": "code",
   "execution_count": 114,
   "id": "ac06fcfe",
   "metadata": {},
   "outputs": [],
   "source": [
    "def is_palindrome(input_str: str) -> bool:\n",
    "    return input_str == input_str[::-1]"
   ]
  },
  {
   "cell_type": "code",
   "execution_count": 115,
   "id": "0906b9b4",
   "metadata": {},
   "outputs": [
    {
     "data": {
      "text/plain": [
       "True"
      ]
     },
     "execution_count": 115,
     "metadata": {},
     "output_type": "execute_result"
    }
   ],
   "source": [
    "is_palindrome('radar')"
   ]
  },
  {
   "cell_type": "markdown",
   "id": "8437f1d6",
   "metadata": {},
   "source": [
    "##### Question 10\n",
    "Write a function def add_commas(numbers) that will add commas to an integer and return it as a string.\n",
    "For example add_commas(1000000) will return 1,000,000 Do it first without using string fomratting\n",
    "or f strings."
   ]
  },
  {
   "cell_type": "code",
   "execution_count": 139,
   "id": "0e104be2",
   "metadata": {},
   "outputs": [],
   "source": [
    "def add_commas(numbers: int) -> str:\n",
    "    reverse = str(numbers)[::-1]\n",
    "    commas_added = \"\"    \n",
    "    for index, c in enumerate(reverse):\n",
    "        commas_added += c\n",
    "        if (index+1) % 3 == 0:\n",
    "            commas_added += \",\"\n",
    "    \n",
    "    return commas_added[::-1]"
   ]
  },
  {
   "cell_type": "code",
   "execution_count": 142,
   "id": "d744fd8e",
   "metadata": {},
   "outputs": [
    {
     "data": {
      "text/plain": [
       "'10,000,000,000'"
      ]
     },
     "execution_count": 142,
     "metadata": {},
     "output_type": "execute_result"
    }
   ],
   "source": [
    "add_commas(10000000000)"
   ]
  },
  {
   "cell_type": "markdown",
   "id": "aa70595f",
   "metadata": {},
   "source": [
    "##### Question 11\n",
    "Write a function that will convert an integer into binary."
   ]
  },
  {
   "cell_type": "markdown",
   "id": "10ff06ac",
   "metadata": {},
   "source": [
    "##### Question 12\n",
    "Write a function that calculates the sum of all integers up to n. Use the iterative method\n",
    "and the formula and compare the results. (sum of n integers given by S = (n(n+1))/2)"
   ]
  },
  {
   "cell_type": "markdown",
   "id": "77db78ff",
   "metadata": {},
   "source": [
    "##### Question 13\n",
    "Go back over the TwoSum problem we covered earlier in the course. Ensure you understand it."
   ]
  },
  {
   "cell_type": "markdown",
   "id": "173acb10",
   "metadata": {},
   "source": [
    "##### Question 14\n",
    "Implement the TwoSum solution without referring to the solution."
   ]
  },
  {
   "cell_type": "markdown",
   "id": "b1cbf18c",
   "metadata": {},
   "source": [
    "##### Question 15\n",
    "Write a function that takes a positive integer n and converts it into hours and minutes.\n",
    "45 would return 0h:45mins 135 would return 2h:15mins"
   ]
  },
  {
   "cell_type": "markdown",
   "id": "d7ee8531",
   "metadata": {},
   "source": [
    "##### Question 16\n",
    "Write a function to determine whether all numbers in a list are unique."
   ]
  },
  {
   "cell_type": "markdown",
   "id": "ddff52fd",
   "metadata": {},
   "source": [
    "##### Question 17\n",
    "Write a function to add two positive integers together without using the + operator.\n",
    "(Note, this will require some research - start here https://en.wikipedia.org/wiki/Bitwise_operation)"
   ]
  },
  {
   "cell_type": "markdown",
   "id": "85f8e057",
   "metadata": {},
   "source": [
    "##### Question 18\n",
    "Write a function that will calculate the number of divisors of a positive integer and return\n",
    "those divisors."
   ]
  },
  {
   "cell_type": "markdown",
   "id": "b928d92a",
   "metadata": {},
   "source": [
    "##### Question 19\n",
    "Write a function that uses bitwise operations to determine whether a number is odd or even."
   ]
  },
  {
   "cell_type": "markdown",
   "id": "c4096e89",
   "metadata": {},
   "source": [
    "##### Question 20\n",
    "Write a function which prints the prime numbers in a given range."
   ]
  },
  {
   "cell_type": "code",
   "execution_count": null,
   "id": "14b906be",
   "metadata": {},
   "outputs": [],
   "source": []
  }
 ],
 "metadata": {
  "kernelspec": {
   "display_name": "Python 3 (ipykernel)",
   "language": "python",
   "name": "python3"
  },
  "language_info": {
   "codemirror_mode": {
    "name": "ipython",
    "version": 3
   },
   "file_extension": ".py",
   "mimetype": "text/x-python",
   "name": "python",
   "nbconvert_exporter": "python",
   "pygments_lexer": "ipython3",
   "version": "3.11.5"
  }
 },
 "nbformat": 4,
 "nbformat_minor": 5
}
