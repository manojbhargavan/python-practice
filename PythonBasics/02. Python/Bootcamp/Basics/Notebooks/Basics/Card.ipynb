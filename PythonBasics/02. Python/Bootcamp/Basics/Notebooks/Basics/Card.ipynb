{
 "cells": [
  {
   "cell_type": "code",
   "execution_count": 9,
   "id": "03820aef",
   "metadata": {},
   "outputs": [],
   "source": [
    "class Card(object):\n",
    "    \n",
    "    def __init__(self, suit, value):\n",
    "        self.suit = suit\n",
    "        self.value = value\n",
    "    \n",
    "    def display_card(self):\n",
    "        print(self)\n",
    "    \n",
    "    def __str__(self):\n",
    "        return f\"{self.value} of {self.suit}\""
   ]
  },
  {
   "cell_type": "code",
   "execution_count": 12,
   "id": "a4aae0d2",
   "metadata": {},
   "outputs": [
    {
     "name": "stdout",
     "output_type": "stream",
     "text": [
      "King of Diamond\n"
     ]
    }
   ],
   "source": [
    "card1 = Card('Diamond', 'King')\n",
    "card1.display_card()"
   ]
  },
  {
   "cell_type": "code",
   "execution_count": 13,
   "id": "c878b9f4",
   "metadata": {},
   "outputs": [
    {
     "name": "stdout",
     "output_type": "stream",
     "text": [
      "King of Diamond\n"
     ]
    }
   ],
   "source": [
    "print(card1)"
   ]
  },
  {
   "cell_type": "code",
   "execution_count": null,
   "id": "bc8fd3f6",
   "metadata": {},
   "outputs": [],
   "source": []
  }
 ],
 "metadata": {
  "kernelspec": {
   "display_name": "Python 3 (ipykernel)",
   "language": "python",
   "name": "python3"
  },
  "language_info": {
   "codemirror_mode": {
    "name": "ipython",
    "version": 3
   },
   "file_extension": ".py",
   "mimetype": "text/x-python",
   "name": "python",
   "nbconvert_exporter": "python",
   "pygments_lexer": "ipython3",
   "version": "3.11.5"
  }
 },
 "nbformat": 4,
 "nbformat_minor": 5
}
