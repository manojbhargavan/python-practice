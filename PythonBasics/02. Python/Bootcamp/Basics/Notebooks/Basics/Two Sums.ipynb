{
 "cells": [
  {
   "cell_type": "code",
   "execution_count": 17,
   "id": "d13e287c",
   "metadata": {},
   "outputs": [],
   "source": [
    "def two_sum(numbers, sum_required):\n",
    "    result = []\n",
    "    found = False\n",
    "    for i in range(len(numbers)):\n",
    "        if found:\n",
    "            break\n",
    "        for j in range(i + 1, len(numbers)):\n",
    "            if numbers[i] + numbers[j] == sum_required:\n",
    "                result.extend([i, j])\n",
    "                found = True\n",
    "                break\n",
    "                \n",
    "    if len(result) == 0:\n",
    "        return -1\n",
    "    else:\n",
    "        return result\n"
   ]
  },
  {
   "cell_type": "code",
   "execution_count": 22,
   "id": "8db5fc94",
   "metadata": {},
   "outputs": [
    {
     "data": {
      "text/plain": [
       "[0, 1]"
      ]
     },
     "execution_count": 22,
     "metadata": {},
     "output_type": "execute_result"
    }
   ],
   "source": [
    "numbers = [2, 5, 3, 7, 4]\n",
    "sum_required = 7\n",
    "two_sum(numbers, sum_required)"
   ]
  },
  {
   "cell_type": "code",
   "execution_count": 30,
   "id": "3711cc3a",
   "metadata": {},
   "outputs": [],
   "source": [
    "def two_numbers_2(numbers, sum_required):\n",
    "    num_dict = {}\n",
    "    for i in range(len(numbers)):\n",
    "        num_dict[numbers[i]] = i\n",
    "\n",
    "    for num, index in num_dict.items():\n",
    "        required = sum_required - num\n",
    "        if required > 0 and num_dict[required]:\n",
    "            return [index, num_dict[required]]"
   ]
  },
  {
   "cell_type": "code",
   "execution_count": 33,
   "id": "ed124866",
   "metadata": {},
   "outputs": [
    {
     "data": {
      "text/plain": [
       "[0, 1]"
      ]
     },
     "execution_count": 33,
     "metadata": {},
     "output_type": "execute_result"
    }
   ],
   "source": [
    "numbers = [2, 5, 3, 7, 4]\n",
    "sum_required = 7\n",
    "two_sum(numbers, sum_required)"
   ]
  }
 ],
 "metadata": {
  "kernelspec": {
   "display_name": "Python 3 (ipykernel)",
   "language": "python",
   "name": "python3"
  },
  "language_info": {
   "codemirror_mode": {
    "name": "ipython",
    "version": 3
   },
   "file_extension": ".py",
   "mimetype": "text/x-python",
   "name": "python",
   "nbconvert_exporter": "python",
   "pygments_lexer": "ipython3",
   "version": "3.11.5"
  }
 },
 "nbformat": 4,
 "nbformat_minor": 5
}
