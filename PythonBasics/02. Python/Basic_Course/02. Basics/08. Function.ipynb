{
 "cells": [
  {
   "cell_type": "code",
   "execution_count": 11,
   "id": "5d89a178",
   "metadata": {},
   "outputs": [],
   "source": [
    "def simple():\n",
    "    print(\"Swamy, Addu di din din di din   Swamy, Addu vedigal vendee\")\n",
    "    print(\"Swamy, Addu di din din di din   Swamy, Addu kandigal vendee\")\n",
    "    print(\"Swamy, Addu di din din di din   Swamy, Addu chuchu chu chu chu vendee\")"
   ]
  },
  {
   "cell_type": "code",
   "execution_count": 12,
   "id": "433aac4e",
   "metadata": {},
   "outputs": [
    {
     "name": "stdout",
     "output_type": "stream",
     "text": [
      "Swamy, Addu di din din di din   Swamy, Addu vedigal vendee\n",
      "Swamy, Addu di din din di din   Swamy, Addu kandigal vendee\n",
      "Swamy, Addu di din din di din   Swamy, Addu chuchu chu chu chu vendee\n"
     ]
    }
   ],
   "source": [
    "simple()"
   ]
  },
  {
   "cell_type": "code",
   "execution_count": 13,
   "id": "5ed59c4f",
   "metadata": {},
   "outputs": [],
   "source": [
    "def plus_ten(x):\n",
    "    return x + 10"
   ]
  },
  {
   "cell_type": "code",
   "execution_count": 14,
   "id": "87a36597",
   "metadata": {},
   "outputs": [
    {
     "data": {
      "text/plain": [
       "110"
      ]
     },
     "execution_count": 14,
     "metadata": {},
     "output_type": "execute_result"
    }
   ],
   "source": [
    "plus_ten(100)"
   ]
  },
  {
   "cell_type": "code",
   "execution_count": 16,
   "id": "54d12c6b",
   "metadata": {},
   "outputs": [],
   "source": [
    "def wage(w_hour):\n",
    "    return w_hour * 25\n",
    "\n",
    "def with_bonus(w_hours):\n",
    "    return wage(w_hours) + 50"
   ]
  },
  {
   "cell_type": "code",
   "execution_count": 17,
   "id": "97a9208e",
   "metadata": {},
   "outputs": [
    {
     "data": {
      "text/plain": [
       "(200, 250)"
      ]
     },
     "execution_count": 17,
     "metadata": {},
     "output_type": "execute_result"
    }
   ],
   "source": [
    "wage(8), with_bonus(8)"
   ]
  },
  {
   "cell_type": "code",
   "execution_count": 19,
   "id": "94a5785f",
   "metadata": {},
   "outputs": [],
   "source": [
    "def add_ten(cash):\n",
    "    if cash >= 100:\n",
    "        return cash + 10\n",
    "    else:\n",
    "        return cash"
   ]
  },
  {
   "cell_type": "code",
   "execution_count": 21,
   "id": "09f85b70",
   "metadata": {},
   "outputs": [
    {
     "data": {
      "text/plain": [
       "(130, 110, 99)"
      ]
     },
     "execution_count": 21,
     "metadata": {},
     "output_type": "execute_result"
    }
   ],
   "source": [
    "add_ten(120), add_ten(100), add_ten(99)"
   ]
  },
  {
   "cell_type": "code",
   "execution_count": 22,
   "id": "9adfab03",
   "metadata": {},
   "outputs": [
    {
     "data": {
      "text/plain": [
       "45"
      ]
     },
     "execution_count": 22,
     "metadata": {},
     "output_type": "execute_result"
    }
   ],
   "source": [
    "max(10,20,45)"
   ]
  },
  {
   "cell_type": "code",
   "execution_count": 23,
   "id": "13251dbe",
   "metadata": {},
   "outputs": [
    {
     "data": {
      "text/plain": [
       "10"
      ]
     },
     "execution_count": 23,
     "metadata": {},
     "output_type": "execute_result"
    }
   ],
   "source": [
    "min(10,20,45)"
   ]
  },
  {
   "cell_type": "code",
   "execution_count": 24,
   "id": "7538b64f",
   "metadata": {},
   "outputs": [
    {
     "data": {
      "text/plain": [
       "100"
      ]
     },
     "execution_count": 24,
     "metadata": {},
     "output_type": "execute_result"
    }
   ],
   "source": [
    "abs(-100)"
   ]
  },
  {
   "cell_type": "code",
   "execution_count": 25,
   "id": "977db7db",
   "metadata": {},
   "outputs": [
    {
     "data": {
      "text/plain": [
       "10"
      ]
     },
     "execution_count": 25,
     "metadata": {},
     "output_type": "execute_result"
    }
   ],
   "source": [
    "list_1 = [1,2,3,4]\n",
    "sum(list_1)"
   ]
  },
  {
   "cell_type": "code",
   "execution_count": 29,
   "id": "0214305d",
   "metadata": {},
   "outputs": [
    {
     "data": {
      "text/plain": [
       "4"
      ]
     },
     "execution_count": 29,
     "metadata": {},
     "output_type": "execute_result"
    }
   ],
   "source": [
    "round(3.5552345235645634563456,)"
   ]
  },
  {
   "cell_type": "code",
   "execution_count": 33,
   "id": "921853e7",
   "metadata": {},
   "outputs": [
    {
     "data": {
      "text/plain": [
       "12855002631049216"
      ]
     },
     "execution_count": 33,
     "metadata": {},
     "output_type": "execute_result"
    }
   ],
   "source": [
    "22 ** 12"
   ]
  },
  {
   "cell_type": "code",
   "execution_count": 34,
   "id": "3d213e1a",
   "metadata": {},
   "outputs": [
    {
     "data": {
      "text/plain": [
       "12855002631049216"
      ]
     },
     "execution_count": 34,
     "metadata": {},
     "output_type": "execute_result"
    }
   ],
   "source": [
    "pow(22, 12)"
   ]
  },
  {
   "cell_type": "code",
   "execution_count": 32,
   "id": "9d53853f",
   "metadata": {},
   "outputs": [
    {
     "data": {
      "text/plain": [
       "6"
      ]
     },
     "execution_count": 32,
     "metadata": {},
     "output_type": "execute_result"
    }
   ],
   "source": [
    "len('kabady')"
   ]
  },
  {
   "cell_type": "code",
   "execution_count": null,
   "id": "fb29e5eb",
   "metadata": {},
   "outputs": [],
   "source": []
  }
 ],
 "metadata": {
  "kernelspec": {
   "display_name": "Python 3 (ipykernel)",
   "language": "python",
   "name": "python3"
  },
  "language_info": {
   "codemirror_mode": {
    "name": "ipython",
    "version": 3
   },
   "file_extension": ".py",
   "mimetype": "text/x-python",
   "name": "python",
   "nbconvert_exporter": "python",
   "pygments_lexer": "ipython3",
   "version": "3.11.4"
  }
 },
 "nbformat": 4,
 "nbformat_minor": 5
}
