{
 "cells": [
  {
   "cell_type": "code",
   "execution_count": 1,
   "id": "c32145e1",
   "metadata": {},
   "outputs": [
    {
     "name": "stdout",
     "output_type": "stream",
     "text": [
      "jaffa\n"
     ]
    }
   ],
   "source": [
    "if 16/4 % 2 == 0:\n",
    "    print('jaffa')"
   ]
  },
  {
   "cell_type": "code",
   "execution_count": 4,
   "id": "8dde447c",
   "metadata": {},
   "outputs": [
    {
     "name": "stdout",
     "output_type": "stream",
     "text": [
      "gland\n",
      "89\n"
     ]
    }
   ],
   "source": [
    "if 5 == 67:\n",
    "    print(\"bland\")\n",
    "else:\n",
    "    print(\"gland\")\n",
    "    print(89)"
   ]
  },
  {
   "cell_type": "code",
   "execution_count": 3,
   "id": "d14f496f",
   "metadata": {},
   "outputs": [
    {
     "name": "stdout",
     "output_type": "stream",
     "text": [
      "jare\n"
     ]
    }
   ],
   "source": [
    "if 5 != 56:\n",
    "    print(\"jare\")"
   ]
  },
  {
   "cell_type": "code",
   "execution_count": 6,
   "id": "d24c3dea",
   "metadata": {},
   "outputs": [],
   "source": [
    "def compare_to_five(x):\n",
    "    if x > 5:\n",
    "        print(f'{x} is greater than 5')\n",
    "    elif x < 5:\n",
    "        print(f'{x} is less than 5')\n",
    "    else:\n",
    "        print(f'{x} is equal than 5')"
   ]
  },
  {
   "cell_type": "code",
   "execution_count": 8,
   "id": "540cebce",
   "metadata": {},
   "outputs": [
    {
     "name": "stdout",
     "output_type": "stream",
     "text": [
      "10 is greater than 5\n",
      "3 is less than 5\n",
      "5 is equal than 5\n"
     ]
    }
   ],
   "source": [
    "compare_to_five(10)\n",
    "compare_to_five(3)\n",
    "compare_to_five(5)"
   ]
  },
  {
   "cell_type": "code",
   "execution_count": null,
   "id": "cd95c390",
   "metadata": {},
   "outputs": [],
   "source": []
  }
 ],
 "metadata": {
  "kernelspec": {
   "display_name": "Python 3 (ipykernel)",
   "language": "python",
   "name": "python3"
  },
  "language_info": {
   "codemirror_mode": {
    "name": "ipython",
    "version": 3
   },
   "file_extension": ".py",
   "mimetype": "text/x-python",
   "name": "python",
   "nbconvert_exporter": "python",
   "pygments_lexer": "ipython3",
   "version": "3.11.4"
  }
 },
 "nbformat": 4,
 "nbformat_minor": 5
}
