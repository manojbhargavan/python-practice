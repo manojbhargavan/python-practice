{
 "cells": [
  {
   "cell_type": "code",
   "execution_count": 9,
   "id": "84ffaef6",
   "metadata": {},
   "outputs": [],
   "source": [
    "# Prime Number function\n",
    "def is_prime(n):\n",
    "    if n ==0 or n == 1:\n",
    "        return False\n",
    "    \n",
    "    for divisor in range(2, n):\n",
    "        if n % divisor == 0 and divisor != n:\n",
    "            return False\n",
    "    \n",
    "    return True"
   ]
  },
  {
   "cell_type": "code",
   "execution_count": 17,
   "id": "026f1e2d",
   "metadata": {},
   "outputs": [
    {
     "name": "stdout",
     "output_type": "stream",
     "text": [
      "Count of Prime Numbers between 100 and 151 is '11'\n",
      "[101, 103, 107, 109, 113, 127, 131, 137, 139, 149, 151]\n"
     ]
    }
   ],
   "source": [
    "# Count Prime Numbers in Range\n",
    "range_start = 100\n",
    "range_end = 151\n",
    "prime_number_count = 0\n",
    "prime_numer_list = []\n",
    "for num in range(range_start, range_end + 1):\n",
    "    if is_prime(num):\n",
    "        prime_number_count += 1\n",
    "        prime_numer_list.append(num)\n",
    "        \n",
    "print(f\"Count of Prime Numbers between {range_start} and {range_end} is '{prime_number_count}'\")\n",
    "print(prime_numer_list)"
   ]
  },
  {
   "cell_type": "code",
   "execution_count": 22,
   "id": "54aec575",
   "metadata": {},
   "outputs": [
    {
     "name": "stdout",
     "output_type": "stream",
     "text": [
      "827\n",
      "313\n"
     ]
    }
   ],
   "source": [
    "nums_lst = [123, 827, 326, 303, 313, 351]\n",
    "for num in nums_lst:\n",
    "    if is_prime(num):\n",
    "        print(num)"
   ]
  },
  {
   "cell_type": "code",
   "execution_count": null,
   "id": "3c0b1669",
   "metadata": {},
   "outputs": [],
   "source": []
  }
 ],
 "metadata": {
  "kernelspec": {
   "display_name": "Python 3 (ipykernel)",
   "language": "python",
   "name": "python3"
  },
  "language_info": {
   "codemirror_mode": {
    "name": "ipython",
    "version": 3
   },
   "file_extension": ".py",
   "mimetype": "text/x-python",
   "name": "python",
   "nbconvert_exporter": "python",
   "pygments_lexer": "ipython3",
   "version": "3.11.4"
  }
 },
 "nbformat": 4,
 "nbformat_minor": 5
}
